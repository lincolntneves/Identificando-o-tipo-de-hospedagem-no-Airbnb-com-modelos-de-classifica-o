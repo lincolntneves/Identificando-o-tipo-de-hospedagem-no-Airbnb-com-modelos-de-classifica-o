{
 "cells": [
  {
   "cell_type": "markdown",
   "metadata": {},
   "source": [
    "#### Importando pacotes necessários"
   ]
  },
  {
   "cell_type": "code",
   "execution_count": 1,
   "metadata": {},
   "outputs": [],
   "source": [
    "import pandas as pd\n",
    "import numpy as np\n",
    "import datetime\n",
    "from sklearn.impute import SimpleImputer\n",
    "from sklearn.preprocessing import LabelEncoder, OneHotEncoder\n",
    "from sklearn.feature_selection import SelectKBest\n",
    "from sklearn.feature_selection import chi2\n",
    "from sklearn.metrics import confusion_matrix, accuracy_score, classification_report\n",
    "from sklearn.model_selection import train_test_split, cross_val_predict\n",
    "from sklearn.preprocessing import StandardScaler\n",
    "from sklearn.metrics import confusion_matrix\n",
    "from sklearn.svm import SVC\n",
    "from sklearn.tree import DecisionTreeClassifier\n",
    "from sklearn.naive_bayes import GaussianNB\n",
    "from sklearn.ensemble import RandomForestClassifier\n",
    "from xgboost import XGBClassifier"
   ]
  },
  {
   "cell_type": "code",
   "execution_count": 2,
   "metadata": {},
   "outputs": [],
   "source": [
    "import warnings\n",
    "warnings.filterwarnings('ignore')"
   ]
  },
  {
   "cell_type": "markdown",
   "metadata": {},
   "source": [
    "#### Upload das bases de dados"
   ]
  },
  {
   "cell_type": "code",
   "execution_count": 3,
   "metadata": {},
   "outputs": [],
   "source": [
    "listings = pd.read_csv(\"listings.csv\", sep=\",\")\n",
    "#calendar = pd.read_csv(\"calendar.csv\", sep=\",\")\n",
    "#reviews = pd.read_csv(\"reviews.csv\", sep=\",\")"
   ]
  },
  {
   "cell_type": "code",
   "execution_count": 4,
   "metadata": {
    "scrolled": true
   },
   "outputs": [
    {
     "data": {
      "text/html": [
       "<div>\n",
       "<style scoped>\n",
       "    .dataframe tbody tr th:only-of-type {\n",
       "        vertical-align: middle;\n",
       "    }\n",
       "\n",
       "    .dataframe tbody tr th {\n",
       "        vertical-align: top;\n",
       "    }\n",
       "\n",
       "    .dataframe thead th {\n",
       "        text-align: right;\n",
       "    }\n",
       "</style>\n",
       "<table border=\"1\" class=\"dataframe\">\n",
       "  <thead>\n",
       "    <tr style=\"text-align: right;\">\n",
       "      <th></th>\n",
       "      <th>id</th>\n",
       "      <th>listing_url</th>\n",
       "      <th>scrape_id</th>\n",
       "      <th>last_scraped</th>\n",
       "      <th>name</th>\n",
       "      <th>description</th>\n",
       "      <th>neighborhood_overview</th>\n",
       "      <th>picture_url</th>\n",
       "      <th>host_id</th>\n",
       "      <th>host_url</th>\n",
       "      <th>...</th>\n",
       "      <th>review_scores_communication</th>\n",
       "      <th>review_scores_location</th>\n",
       "      <th>review_scores_value</th>\n",
       "      <th>license</th>\n",
       "      <th>instant_bookable</th>\n",
       "      <th>calculated_host_listings_count</th>\n",
       "      <th>calculated_host_listings_count_entire_homes</th>\n",
       "      <th>calculated_host_listings_count_private_rooms</th>\n",
       "      <th>calculated_host_listings_count_shared_rooms</th>\n",
       "      <th>reviews_per_month</th>\n",
       "    </tr>\n",
       "  </thead>\n",
       "  <tbody>\n",
       "    <tr>\n",
       "      <th>0</th>\n",
       "      <td>17878</td>\n",
       "      <td>https://www.airbnb.com/rooms/17878</td>\n",
       "      <td>20210222161029</td>\n",
       "      <td>2021-02-23</td>\n",
       "      <td>Very Nice 2Br in Copacabana w. balcony, fast WiFi</td>\n",
       "      <td>Discounts for long term stays. &lt;br /&gt;- Large b...</td>\n",
       "      <td>This is the one of the bests spots in Rio. Bec...</td>\n",
       "      <td>https://a0.muscache.com/pictures/65320518/3069...</td>\n",
       "      <td>68997</td>\n",
       "      <td>https://www.airbnb.com/users/show/68997</td>\n",
       "      <td>...</td>\n",
       "      <td>10.0</td>\n",
       "      <td>10.0</td>\n",
       "      <td>9.0</td>\n",
       "      <td>NaN</td>\n",
       "      <td>t</td>\n",
       "      <td>1</td>\n",
       "      <td>1</td>\n",
       "      <td>0</td>\n",
       "      <td>0</td>\n",
       "      <td>2.01</td>\n",
       "    </tr>\n",
       "    <tr>\n",
       "      <th>1</th>\n",
       "      <td>24480</td>\n",
       "      <td>https://www.airbnb.com/rooms/24480</td>\n",
       "      <td>20210222161029</td>\n",
       "      <td>2021-02-23</td>\n",
       "      <td>Nice and cozy near Ipanema Beach</td>\n",
       "      <td>My studio is located in the best  of Ipanema. ...</td>\n",
       "      <td>The beach, the lagoon, Ipanema is a great loca...</td>\n",
       "      <td>https://a0.muscache.com/pictures/11955612/b28e...</td>\n",
       "      <td>99249</td>\n",
       "      <td>https://www.airbnb.com/users/show/99249</td>\n",
       "      <td>...</td>\n",
       "      <td>10.0</td>\n",
       "      <td>10.0</td>\n",
       "      <td>9.0</td>\n",
       "      <td>NaN</td>\n",
       "      <td>f</td>\n",
       "      <td>1</td>\n",
       "      <td>1</td>\n",
       "      <td>0</td>\n",
       "      <td>0</td>\n",
       "      <td>0.67</td>\n",
       "    </tr>\n",
       "    <tr>\n",
       "      <th>2</th>\n",
       "      <td>25026</td>\n",
       "      <td>https://www.airbnb.com/rooms/25026</td>\n",
       "      <td>20210222161029</td>\n",
       "      <td>2021-02-23</td>\n",
       "      <td>Beautiful Modern Decorated Studio in Copa</td>\n",
       "      <td>Our apartment is a little gem, everyone loves ...</td>\n",
       "      <td>Copacabana is a lively neighborhood and the ap...</td>\n",
       "      <td>https://a0.muscache.com/pictures/3003965/68ebb...</td>\n",
       "      <td>3746246</td>\n",
       "      <td>https://www.airbnb.com/users/show/3746246</td>\n",
       "      <td>...</td>\n",
       "      <td>10.0</td>\n",
       "      <td>10.0</td>\n",
       "      <td>9.0</td>\n",
       "      <td>NaN</td>\n",
       "      <td>f</td>\n",
       "      <td>11</td>\n",
       "      <td>11</td>\n",
       "      <td>0</td>\n",
       "      <td>0</td>\n",
       "      <td>1.82</td>\n",
       "    </tr>\n",
       "  </tbody>\n",
       "</table>\n",
       "<p>3 rows × 74 columns</p>\n",
       "</div>"
      ],
      "text/plain": [
       "      id                         listing_url       scrape_id last_scraped  \\\n",
       "0  17878  https://www.airbnb.com/rooms/17878  20210222161029   2021-02-23   \n",
       "1  24480  https://www.airbnb.com/rooms/24480  20210222161029   2021-02-23   \n",
       "2  25026  https://www.airbnb.com/rooms/25026  20210222161029   2021-02-23   \n",
       "\n",
       "                                                name  \\\n",
       "0  Very Nice 2Br in Copacabana w. balcony, fast WiFi   \n",
       "1                   Nice and cozy near Ipanema Beach   \n",
       "2          Beautiful Modern Decorated Studio in Copa   \n",
       "\n",
       "                                         description  \\\n",
       "0  Discounts for long term stays. <br />- Large b...   \n",
       "1  My studio is located in the best  of Ipanema. ...   \n",
       "2  Our apartment is a little gem, everyone loves ...   \n",
       "\n",
       "                               neighborhood_overview  \\\n",
       "0  This is the one of the bests spots in Rio. Bec...   \n",
       "1  The beach, the lagoon, Ipanema is a great loca...   \n",
       "2  Copacabana is a lively neighborhood and the ap...   \n",
       "\n",
       "                                         picture_url  host_id  \\\n",
       "0  https://a0.muscache.com/pictures/65320518/3069...    68997   \n",
       "1  https://a0.muscache.com/pictures/11955612/b28e...    99249   \n",
       "2  https://a0.muscache.com/pictures/3003965/68ebb...  3746246   \n",
       "\n",
       "                                    host_url  ... review_scores_communication  \\\n",
       "0    https://www.airbnb.com/users/show/68997  ...                        10.0   \n",
       "1    https://www.airbnb.com/users/show/99249  ...                        10.0   \n",
       "2  https://www.airbnb.com/users/show/3746246  ...                        10.0   \n",
       "\n",
       "  review_scores_location review_scores_value license instant_bookable  \\\n",
       "0                   10.0                 9.0     NaN                t   \n",
       "1                   10.0                 9.0     NaN                f   \n",
       "2                   10.0                 9.0     NaN                f   \n",
       "\n",
       "  calculated_host_listings_count calculated_host_listings_count_entire_homes  \\\n",
       "0                              1                                           1   \n",
       "1                              1                                           1   \n",
       "2                             11                                          11   \n",
       "\n",
       "  calculated_host_listings_count_private_rooms  \\\n",
       "0                                            0   \n",
       "1                                            0   \n",
       "2                                            0   \n",
       "\n",
       "  calculated_host_listings_count_shared_rooms reviews_per_month  \n",
       "0                                           0              2.01  \n",
       "1                                           0              0.67  \n",
       "2                                           0              1.82  \n",
       "\n",
       "[3 rows x 74 columns]"
      ]
     },
     "execution_count": 4,
     "metadata": {},
     "output_type": "execute_result"
    }
   ],
   "source": [
    "listings.head(3)"
   ]
  },
  {
   "cell_type": "code",
   "execution_count": 5,
   "metadata": {},
   "outputs": [],
   "source": [
    "df1 = listings"
   ]
  },
  {
   "cell_type": "code",
   "execution_count": 6,
   "metadata": {
    "scrolled": true
   },
   "outputs": [
    {
     "name": "stdout",
     "output_type": "stream",
     "text": [
      "<class 'pandas.core.frame.DataFrame'>\n",
      "RangeIndex: 26615 entries, 0 to 26614\n",
      "Data columns (total 74 columns):\n",
      " #   Column                                        Non-Null Count  Dtype  \n",
      "---  ------                                        --------------  -----  \n",
      " 0   id                                            26615 non-null  int64  \n",
      " 1   listing_url                                   26615 non-null  object \n",
      " 2   scrape_id                                     26615 non-null  int64  \n",
      " 3   last_scraped                                  26615 non-null  object \n",
      " 4   name                                          26586 non-null  object \n",
      " 5   description                                   25160 non-null  object \n",
      " 6   neighborhood_overview                         14314 non-null  object \n",
      " 7   picture_url                                   26615 non-null  object \n",
      " 8   host_id                                       26615 non-null  int64  \n",
      " 9   host_url                                      26615 non-null  object \n",
      " 10  host_name                                     26591 non-null  object \n",
      " 11  host_since                                    26591 non-null  object \n",
      " 12  host_location                                 26508 non-null  object \n",
      " 13  host_about                                    12895 non-null  object \n",
      " 14  host_response_time                            18599 non-null  object \n",
      " 15  host_response_rate                            18599 non-null  object \n",
      " 16  host_acceptance_rate                          17074 non-null  object \n",
      " 17  host_is_superhost                             26591 non-null  object \n",
      " 18  host_thumbnail_url                            26591 non-null  object \n",
      " 19  host_picture_url                              26591 non-null  object \n",
      " 20  host_neighbourhood                            15344 non-null  object \n",
      " 21  host_listings_count                           26591 non-null  float64\n",
      " 22  host_total_listings_count                     26591 non-null  float64\n",
      " 23  host_verifications                            26615 non-null  object \n",
      " 24  host_has_profile_pic                          26591 non-null  object \n",
      " 25  host_identity_verified                        26591 non-null  object \n",
      " 26  neighbourhood                                 14314 non-null  object \n",
      " 27  neighbourhood_cleansed                        26615 non-null  object \n",
      " 28  neighbourhood_group_cleansed                  0 non-null      float64\n",
      " 29  latitude                                      26615 non-null  float64\n",
      " 30  longitude                                     26615 non-null  float64\n",
      " 31  property_type                                 26615 non-null  object \n",
      " 32  room_type                                     26615 non-null  object \n",
      " 33  accommodates                                  26615 non-null  int64  \n",
      " 34  bathrooms                                     0 non-null      float64\n",
      " 35  bathrooms_text                                26543 non-null  object \n",
      " 36  bedrooms                                      24869 non-null  float64\n",
      " 37  beds                                          26363 non-null  float64\n",
      " 38  amenities                                     26615 non-null  object \n",
      " 39  price                                         26615 non-null  object \n",
      " 40  minimum_nights                                26615 non-null  int64  \n",
      " 41  maximum_nights                                26615 non-null  int64  \n",
      " 42  minimum_minimum_nights                        26531 non-null  float64\n",
      " 43  maximum_minimum_nights                        26531 non-null  float64\n",
      " 44  minimum_maximum_nights                        26531 non-null  float64\n",
      " 45  maximum_maximum_nights                        26531 non-null  float64\n",
      " 46  minimum_nights_avg_ntm                        26531 non-null  float64\n",
      " 47  maximum_nights_avg_ntm                        26531 non-null  float64\n",
      " 48  calendar_updated                              0 non-null      float64\n",
      " 49  has_availability                              26615 non-null  object \n",
      " 50  availability_30                               26615 non-null  int64  \n",
      " 51  availability_60                               26615 non-null  int64  \n",
      " 52  availability_90                               26615 non-null  int64  \n",
      " 53  availability_365                              26615 non-null  int64  \n",
      " 54  calendar_last_scraped                         26615 non-null  object \n",
      " 55  number_of_reviews                             26615 non-null  int64  \n",
      " 56  number_of_reviews_ltm                         26615 non-null  int64  \n",
      " 57  number_of_reviews_l30d                        26615 non-null  int64  \n",
      " 58  first_review                                  16657 non-null  object \n",
      " 59  last_review                                   16657 non-null  object \n",
      " 60  review_scores_rating                          16118 non-null  float64\n",
      " 61  review_scores_accuracy                        16104 non-null  float64\n",
      " 62  review_scores_cleanliness                     16107 non-null  float64\n",
      " 63  review_scores_checkin                         16106 non-null  float64\n",
      " 64  review_scores_communication                   16110 non-null  float64\n",
      " 65  review_scores_location                        16106 non-null  float64\n",
      " 66  review_scores_value                           16108 non-null  float64\n",
      " 67  license                                       0 non-null      float64\n",
      " 68  instant_bookable                              26615 non-null  object \n",
      " 69  calculated_host_listings_count                26615 non-null  int64  \n",
      " 70  calculated_host_listings_count_entire_homes   26615 non-null  int64  \n",
      " 71  calculated_host_listings_count_private_rooms  26615 non-null  int64  \n",
      " 72  calculated_host_listings_count_shared_rooms   26615 non-null  int64  \n",
      " 73  reviews_per_month                             16657 non-null  float64\n",
      "dtypes: float64(24), int64(17), object(33)\n",
      "memory usage: 15.0+ MB\n"
     ]
    }
   ],
   "source": [
    "df1.info()"
   ]
  },
  {
   "cell_type": "markdown",
   "metadata": {},
   "source": [
    "#### Criando variável last_scraped_n\n",
    "- Volume de dias da data de carregamento destas bases e ultipo scraping no anúncio\n",
    "- Utilizando a variável last_scraped para o cálculo"
   ]
  },
  {
   "cell_type": "code",
   "execution_count": 7,
   "metadata": {},
   "outputs": [
    {
     "name": "stdout",
     "output_type": "stream",
     "text": [
      "3.0    13192\n",
      "4.0    12205\n",
      "2.0      870\n",
      "5.0      348\n",
      "Name: last_scraped_d, dtype: int64\n"
     ]
    }
   ],
   "source": [
    "# Criando variável em dias\n",
    "df1[\"last_scraped\"] = df1[\"last_scraped\"].astype(\"string\")\n",
    "df1[\"last_scraped\"] = pd.to_datetime(df1[\"last_scraped\"])\n",
    "df1[\"last_day\"] = \"2021-02-27\"\n",
    "df1[\"last_day\"] = pd.to_datetime(df1[\"last_day\"])\n",
    "df1[\"last_scraped_d\"] = df1[\"last_day\"] - df1[\"last_scraped\"]\n",
    "df1[\"last_scraped_d\"] = df1[\"last_scraped_d\"] / np.timedelta64(1, \"D\")\n",
    "print(pd.value_counts(df1[\"last_scraped_d\"]))"
   ]
  },
  {
   "cell_type": "code",
   "execution_count": 8,
   "metadata": {},
   "outputs": [
    {
     "name": "stdout",
     "output_type": "stream",
     "text": [
      "0.098565    13192\n",
      "0.131420    12205\n",
      "0.065710      870\n",
      "0.164274      348\n",
      "Name: last_scraped_m, dtype: int64\n"
     ]
    }
   ],
   "source": [
    "# Criando variável em meses\n",
    "df1[\"last_scraped\"] = df1[\"last_scraped\"].astype(\"string\")\n",
    "df1[\"last_scraped\"] = pd.to_datetime(df1[\"last_scraped\"])\n",
    "df1[\"last_day\"] = \"2021-02-27\"\n",
    "df1[\"last_day\"] = pd.to_datetime(df1[\"last_day\"])\n",
    "df1[\"last_scraped_m\"] = df1[\"last_day\"] - df1[\"last_scraped\"]\n",
    "df1[\"last_scraped_m\"] = df1[\"last_scraped_m\"] / np.timedelta64(1, \"M\")\n",
    "print(pd.value_counts(df1[\"last_scraped_m\"]))"
   ]
  },
  {
   "cell_type": "code",
   "execution_count": 9,
   "metadata": {},
   "outputs": [
    {
     "name": "stdout",
     "output_type": "stream",
     "text": [
      "0.008214    13192\n",
      "0.010952    12205\n",
      "0.005476      870\n",
      "0.013690      348\n",
      "Name: last_scraped_y, dtype: int64\n"
     ]
    }
   ],
   "source": [
    "# Criando variável em anos\n",
    "df1[\"last_scraped\"] = df1[\"last_scraped\"].astype(\"string\")\n",
    "df1[\"last_scraped\"] = pd.to_datetime(df1[\"last_scraped\"])\n",
    "df1[\"last_day\"] = \"2021-02-27\"\n",
    "df1[\"last_day\"] = pd.to_datetime(df1[\"last_day\"])\n",
    "df1[\"last_scraped_y\"] = df1[\"last_day\"] - df1[\"last_scraped\"]\n",
    "df1[\"last_scraped_y\"] = df1[\"last_scraped_y\"] / np.timedelta64(1, \"Y\")\n",
    "print(pd.value_counts(df1[\"last_scraped_y\"]))"
   ]
  },
  {
   "cell_type": "markdown",
   "metadata": {},
   "source": [
    "#### Criando variável com tipo da imagem da url\n",
    "- Usando a coluna picture_url\n",
    "- Motivo: os diferentes tipos de imagens carregadas podem ser significantes"
   ]
  },
  {
   "cell_type": "code",
   "execution_count": 10,
   "metadata": {
    "scrolled": true
   },
   "outputs": [
    {
     "data": {
      "text/plain": [
       "0    https://a0.muscache.com/pictures/65320518/30698f38_original.jpg\n",
       "1    https://a0.muscache.com/pictures/11955612/b28e9db0_original.jpg\n",
       "2     https://a0.muscache.com/pictures/3003965/68ebb634_original.jpg\n",
       "3    https://a0.muscache.com/pictures/20009355/38b6a10a_original.jpg\n",
       "4    https://a0.muscache.com/pictures/23782972/1d3e55b0_original.jpg\n",
       "Name: picture_url, dtype: object"
      ]
     },
     "execution_count": 10,
     "metadata": {},
     "output_type": "execute_result"
    }
   ],
   "source": [
    "pd.set_option(\"max_colwidth\", None)\n",
    "df1[\"picture_url\"].head(5)"
   ]
  },
  {
   "cell_type": "code",
   "execution_count": 11,
   "metadata": {
    "scrolled": true
   },
   "outputs": [
    {
     "name": "stdout",
     "output_type": "stream",
     "text": [
      "            0         1                                        2    3\n",
      "0  https://a0  muscache  com/pictures/65320518/30698f38_original  jpg\n",
      "1  https://a0  muscache  com/pictures/11955612/b28e9db0_original  jpg\n",
      "2  https://a0  muscache   com/pictures/3003965/68ebb634_original  jpg\n"
     ]
    }
   ],
   "source": [
    "picture_url = pd.DataFrame(df1.picture_url.str.split(\".\", expand = True))\n",
    "print(picture_url.head(3))"
   ]
  },
  {
   "cell_type": "code",
   "execution_count": 12,
   "metadata": {
    "scrolled": true
   },
   "outputs": [
    {
     "name": "stdout",
     "output_type": "stream",
     "text": [
      "  picture_url_tipo\n",
      "0              jpg\n",
      "1              jpg\n",
      "2              jpg\n"
     ]
    }
   ],
   "source": [
    "picture_url = pd.DataFrame({\"picture_url_tipo\": picture_url.iloc[:,3]})\n",
    "print(picture_url.head(3))"
   ]
  },
  {
   "cell_type": "code",
   "execution_count": 13,
   "metadata": {
    "scrolled": true
   },
   "outputs": [
    {
     "name": "stdout",
     "output_type": "stream",
     "text": [
      "jpg     25660\n",
      "jpeg      855\n",
      "JPEG       54\n",
      "png        43\n",
      "Name: picture_url_tipo, dtype: int64\n"
     ]
    }
   ],
   "source": [
    "print(pd.value_counts(picture_url[\"picture_url_tipo\"]))"
   ]
  },
  {
   "cell_type": "code",
   "execution_count": 14,
   "metadata": {},
   "outputs": [
    {
     "name": "stdout",
     "output_type": "stream",
     "text": [
      "jpg     25660\n",
      "jpeg      909\n",
      "png        43\n",
      "Name: picture_url_tipo, dtype: int64\n"
     ]
    }
   ],
   "source": [
    "picture_url[\"picture_url_tipo\"] = picture_url[\"picture_url_tipo\"].str.lower()\n",
    "print(pd.value_counts(picture_url[\"picture_url_tipo\"]))"
   ]
  },
  {
   "cell_type": "code",
   "execution_count": 15,
   "metadata": {
    "scrolled": true
   },
   "outputs": [
    {
     "name": "stdout",
     "output_type": "stream",
     "text": [
      "jpg     25660\n",
      "jpeg      909\n",
      "png        43\n",
      "Name: picture_url_tipo, dtype: int64\n"
     ]
    }
   ],
   "source": [
    "df1['picture_url_tipo'] = picture_url[\"picture_url_tipo\"]\n",
    "print(pd.value_counts(picture_url[\"picture_url_tipo\"]))"
   ]
  },
  {
   "cell_type": "markdown",
   "metadata": {},
   "source": [
    "#### Calculando o tempo de vida do host na plataforma\n",
    "- Usar a variável host_since\n",
    "- Aqui vou trabalhar com a contagem de meses"
   ]
  },
  {
   "cell_type": "code",
   "execution_count": 16,
   "metadata": {},
   "outputs": [
    {
     "name": "stdout",
     "output_type": "stream",
     "text": [
      "143.0     298\n",
      "1648.0    204\n",
      "2510.0     86\n",
      "2716.0     73\n",
      "2530.0     69\n",
      "         ... \n",
      "3488.0      1\n",
      "629.0       1\n",
      "3168.0      1\n",
      "3070.0      1\n",
      "3619.0      1\n",
      "Name: host_since_d, Length: 3392, dtype: int64\n"
     ]
    }
   ],
   "source": [
    "# Criando variável em dias\n",
    "df1[\"host_since\"] = df1[\"host_since\"].astype(\"string\")\n",
    "df1[\"host_since\"] = pd.to_datetime(df1[\"host_since\"])\n",
    "df1[\"last_day\"] = \"2021-02-27\"\n",
    "df1[\"last_day\"] = pd.to_datetime(df1[\"last_day\"])\n",
    "df1[\"host_since_d\"] = df1[\"last_day\"] - df1[\"host_since\"]\n",
    "df1[\"host_since_d\"] = df1[\"host_since_d\"] / np.timedelta64(1, \"D\")\n",
    "print(pd.value_counts(df1[\"host_since_d\"]))"
   ]
  },
  {
   "cell_type": "code",
   "execution_count": 17,
   "metadata": {},
   "outputs": [
    {
     "name": "stdout",
     "output_type": "stream",
     "text": [
      "4.698248     298\n",
      "54.144849    204\n",
      "82.465759     86\n",
      "89.233865     73\n",
      "57.036079     69\n",
      "            ... \n",
      "34.497628      1\n",
      "47.869566      1\n",
      "11.729194      1\n",
      "28.189491      1\n",
      "66.892544      1\n",
      "Name: host_since_m, Length: 3392, dtype: int64\n"
     ]
    }
   ],
   "source": [
    "# Criando variável em meses\n",
    "df1[\"host_since\"] = df1[\"host_since\"].astype(\"string\")\n",
    "df1[\"host_since\"] = pd.to_datetime(df1[\"host_since\"])\n",
    "df1[\"last_day\"] = \"2021-02-27\"\n",
    "df1[\"last_day\"] = pd.to_datetime(df1[\"last_day\"])\n",
    "df1[\"host_since_m\"] = df1[\"last_day\"] - df1[\"host_since\"]\n",
    "df1[\"host_since_m\"] = df1[\"host_since_m\"] / np.timedelta64(1, \"M\")\n",
    "print(pd.value_counts(df1[\"host_since_m\"]))"
   ]
  },
  {
   "cell_type": "code",
   "execution_count": 18,
   "metadata": {},
   "outputs": [
    {
     "name": "stdout",
     "output_type": "stream",
     "text": [
      "0.391521    298\n",
      "4.512071    204\n",
      "6.872147     86\n",
      "7.436155     73\n",
      "4.753007     69\n",
      "           ... \n",
      "9.284243      1\n",
      "9.683977      1\n",
      "5.741391      1\n",
      "3.614037      1\n",
      "2.392931      1\n",
      "Name: host_since_y, Length: 3392, dtype: int64\n"
     ]
    }
   ],
   "source": [
    "# Criando variável em anos\n",
    "df1[\"host_since\"] = df1[\"host_since\"].astype(\"string\")\n",
    "df1[\"host_since\"] = pd.to_datetime(df1[\"host_since\"])\n",
    "df1[\"last_day\"] = \"2021-02-27\"\n",
    "df1[\"last_day\"] = pd.to_datetime(df1[\"last_day\"])\n",
    "df1[\"host_since_y\"] = df1[\"last_day\"] - df1[\"host_since\"]\n",
    "df1[\"host_since_y\"] = df1[\"host_since_y\"] / np.timedelta64(1, \"Y\")\n",
    "print(pd.value_counts(df1[\"host_since_y\"]))"
   ]
  },
  {
   "cell_type": "markdown",
   "metadata": {},
   "source": [
    "#### Identificando o país de origem do host\n",
    "- Trabalhar apenas com o Brasil\n",
    "- Flag se é ou não do Brasil"
   ]
  },
  {
   "cell_type": "code",
   "execution_count": 19,
   "metadata": {},
   "outputs": [],
   "source": [
    "def host_verifications_bin(x):\n",
    "    if x < 0:\n",
    "        return 0\n",
    "    else:\n",
    "        return 1"
   ]
  },
  {
   "cell_type": "code",
   "execution_count": 20,
   "metadata": {},
   "outputs": [
    {
     "data": {
      "text/plain": [
       "1    20860\n",
       "0     5755\n",
       "Name: host_location_brazil, dtype: int64"
      ]
     },
     "execution_count": 20,
     "metadata": {},
     "output_type": "execute_result"
    }
   ],
   "source": [
    "df1[\"host_location_\"] = df1[\"host_location\"].str.find(\"Brazil\")\n",
    "df1[\"host_location_brazil\"] = df1[\"host_location_\"].apply(host_verifications_bin)\n",
    "pd.value_counts(df1[\"host_location_brazil\"])"
   ]
  },
  {
   "cell_type": "markdown",
   "metadata": {},
   "source": [
    "#### Link de imagem marcado como original ou não\n",
    "- Notei que existe essa disitinção nas imagens\n",
    "- Criando uma variável binária, usando a variável host_thumbnail_url"
   ]
  },
  {
   "cell_type": "code",
   "execution_count": 21,
   "metadata": {},
   "outputs": [
    {
     "data": {
      "text/plain": [
       "0    https://a0.muscache.com/im/pictures/user/67b13cea-8c11-49c0-a08d-7f42c330676e.jpg?aki_policy=profile_small\n",
       "1    https://a0.muscache.com/im/pictures/user/6b40475c-26f6-437a-a51d-0a02e938b9e5.jpg?aki_policy=profile_small\n",
       "2    https://a0.muscache.com/im/pictures/user/fffed139-d5ea-41ac-926d-eb4c4717bfbd.jpg?aki_policy=profile_small\n",
       "3          https://a0.muscache.com/im/users/153232/profile_pic/1317563156/original.jpg?aki_policy=profile_small\n",
       "4          https://a0.muscache.com/im/users/153691/profile_pic/1277774787/original.jpg?aki_policy=profile_small\n",
       "5          https://a0.muscache.com/im/users/178975/profile_pic/1384245754/original.jpg?aki_policy=profile_small\n",
       "6    https://a0.muscache.com/im/pictures/user/cee2845b-0e43-4700-8e78-c93f8893c231.jpg?aki_policy=profile_small\n",
       "7          https://a0.muscache.com/im/users/222884/profile_pic/1283553621/original.jpg?aki_policy=profile_small\n",
       "8          https://a0.muscache.com/im/users/224192/profile_pic/1358100631/original.jpg?aki_policy=profile_small\n",
       "9    https://a0.muscache.com/im/pictures/user/cee2845b-0e43-4700-8e78-c93f8893c231.jpg?aki_policy=profile_small\n",
       "Name: host_thumbnail_url, dtype: object"
      ]
     },
     "execution_count": 21,
     "metadata": {},
     "output_type": "execute_result"
    }
   ],
   "source": [
    "df1[\"host_thumbnail_url\"].head(10)"
   ]
  },
  {
   "cell_type": "code",
   "execution_count": 22,
   "metadata": {
    "scrolled": true
   },
   "outputs": [
    {
     "data": {
      "text/html": [
       "<div>\n",
       "<style scoped>\n",
       "    .dataframe tbody tr th:only-of-type {\n",
       "        vertical-align: middle;\n",
       "    }\n",
       "\n",
       "    .dataframe tbody tr th {\n",
       "        vertical-align: top;\n",
       "    }\n",
       "\n",
       "    .dataframe thead th {\n",
       "        text-align: right;\n",
       "    }\n",
       "</style>\n",
       "<table border=\"1\" class=\"dataframe\">\n",
       "  <thead>\n",
       "    <tr style=\"text-align: right;\">\n",
       "      <th></th>\n",
       "      <th>id</th>\n",
       "      <th>listing_url</th>\n",
       "      <th>scrape_id</th>\n",
       "      <th>last_scraped</th>\n",
       "      <th>name</th>\n",
       "      <th>description</th>\n",
       "      <th>neighborhood_overview</th>\n",
       "      <th>picture_url</th>\n",
       "      <th>host_id</th>\n",
       "      <th>host_url</th>\n",
       "      <th>...</th>\n",
       "      <th>last_scraped_d</th>\n",
       "      <th>last_scraped_m</th>\n",
       "      <th>last_scraped_y</th>\n",
       "      <th>picture_url_tipo</th>\n",
       "      <th>host_since_d</th>\n",
       "      <th>host_since_m</th>\n",
       "      <th>host_since_y</th>\n",
       "      <th>host_location_</th>\n",
       "      <th>host_location_brazil</th>\n",
       "      <th>host_thumbnail_url_</th>\n",
       "    </tr>\n",
       "  </thead>\n",
       "  <tbody>\n",
       "    <tr>\n",
       "      <th>0</th>\n",
       "      <td>17878</td>\n",
       "      <td>https:...</td>\n",
       "      <td>202102...</td>\n",
       "      <td>2021-02-23</td>\n",
       "      <td>Very N...</td>\n",
       "      <td>Discou...</td>\n",
       "      <td>This i...</td>\n",
       "      <td>https:...</td>\n",
       "      <td>68997</td>\n",
       "      <td>https:...</td>\n",
       "      <td>...</td>\n",
       "      <td>4.0</td>\n",
       "      <td>0.13142</td>\n",
       "      <td>0.010952</td>\n",
       "      <td>jpg</td>\n",
       "      <td>4068.0</td>\n",
       "      <td>133.65...</td>\n",
       "      <td>11.137806</td>\n",
       "      <td>41.0</td>\n",
       "      <td>1</td>\n",
       "      <td>-1.0</td>\n",
       "    </tr>\n",
       "    <tr>\n",
       "      <th>1</th>\n",
       "      <td>24480</td>\n",
       "      <td>https:...</td>\n",
       "      <td>202102...</td>\n",
       "      <td>2021-02-23</td>\n",
       "      <td>Nice a...</td>\n",
       "      <td>My stu...</td>\n",
       "      <td>The be...</td>\n",
       "      <td>https:...</td>\n",
       "      <td>99249</td>\n",
       "      <td>https:...</td>\n",
       "      <td>...</td>\n",
       "      <td>4.0</td>\n",
       "      <td>0.13142</td>\n",
       "      <td>0.010952</td>\n",
       "      <td>jpg</td>\n",
       "      <td>3991.0</td>\n",
       "      <td>131.12...</td>\n",
       "      <td>10.926987</td>\n",
       "      <td>32.0</td>\n",
       "      <td>1</td>\n",
       "      <td>-1.0</td>\n",
       "    </tr>\n",
       "    <tr>\n",
       "      <th>2</th>\n",
       "      <td>25026</td>\n",
       "      <td>https:...</td>\n",
       "      <td>202102...</td>\n",
       "      <td>2021-02-23</td>\n",
       "      <td>Beauti...</td>\n",
       "      <td>Our ap...</td>\n",
       "      <td>Copaca...</td>\n",
       "      <td>https:...</td>\n",
       "      <td>3746246</td>\n",
       "      <td>https:...</td>\n",
       "      <td>...</td>\n",
       "      <td>4.0</td>\n",
       "      <td>0.13142</td>\n",
       "      <td>0.010952</td>\n",
       "      <td>jpg</td>\n",
       "      <td>3069.0</td>\n",
       "      <td>100.83...</td>\n",
       "      <td>8.402637</td>\n",
       "      <td>32.0</td>\n",
       "      <td>1</td>\n",
       "      <td>-1.0</td>\n",
       "    </tr>\n",
       "  </tbody>\n",
       "</table>\n",
       "<p>3 rows × 85 columns</p>\n",
       "</div>"
      ],
      "text/plain": [
       "      id listing_url  scrape_id last_scraped       name description  \\\n",
       "0  17878  https:...   202102... 2021-02-23    Very N...  Discou...    \n",
       "1  24480  https:...   202102... 2021-02-23    Nice a...  My stu...    \n",
       "2  25026  https:...   202102... 2021-02-23    Beauti...  Our ap...    \n",
       "\n",
       "  neighborhood_overview picture_url  host_id   host_url  ... last_scraped_d  \\\n",
       "0  This i...             https:...     68997  https:...  ...        4.0       \n",
       "1  The be...             https:...     99249  https:...  ...        4.0       \n",
       "2  Copaca...             https:...   3746246  https:...  ...        4.0       \n",
       "\n",
       "  last_scraped_m last_scraped_y picture_url_tipo host_since_d host_since_m  \\\n",
       "0    0.13142       0.010952            jpg           4068.0    133.65...     \n",
       "1    0.13142       0.010952            jpg           3991.0    131.12...     \n",
       "2    0.13142       0.010952            jpg           3069.0    100.83...     \n",
       "\n",
       "  host_since_y host_location_ host_location_brazil host_thumbnail_url_  \n",
       "0  11.137806         41.0              1                 -1.0           \n",
       "1  10.926987         32.0              1                 -1.0           \n",
       "2   8.402637         32.0              1                 -1.0           \n",
       "\n",
       "[3 rows x 85 columns]"
      ]
     },
     "execution_count": 22,
     "metadata": {},
     "output_type": "execute_result"
    }
   ],
   "source": [
    "df1[\"host_thumbnail_url_\"] = df1[\"host_thumbnail_url\"].str.find(\"original\")\n",
    "pd.set_option(\"max_colwidth\", 10)\n",
    "df1.head(3)"
   ]
  },
  {
   "cell_type": "code",
   "execution_count": 23,
   "metadata": {},
   "outputs": [],
   "source": [
    "def host_thumbnail_url_bin(x):\n",
    "    if x < 0:\n",
    "        return 0\n",
    "    else:\n",
    "        return 1"
   ]
  },
  {
   "cell_type": "code",
   "execution_count": 24,
   "metadata": {
    "scrolled": true
   },
   "outputs": [
    {
     "data": {
      "text/plain": [
       "0    21309\n",
       "1     5306\n",
       "Name: host_thumbnail_url_o, dtype: int64"
      ]
     },
     "execution_count": 24,
     "metadata": {},
     "output_type": "execute_result"
    }
   ],
   "source": [
    "df1[\"host_thumbnail_url_o\"] = df1[\"host_thumbnail_url_\"].apply(host_thumbnail_url_bin)\n",
    "pd.value_counts(df1[\"host_thumbnail_url_o\"])"
   ]
  },
  {
   "cell_type": "markdown",
   "metadata": {},
   "source": [
    "#### Link de imagem marcado como original ou não\n",
    "- Notei que existe essa disitinção nas imagens\n",
    "- Criando uma variável binária, usando a variável host_picture_url\n",
    "\n",
    "_Obs.: Notei que é igual ao host_thumbnail_url, por isso não vou usar._"
   ]
  },
  {
   "cell_type": "code",
   "execution_count": 25,
   "metadata": {},
   "outputs": [
    {
     "data": {
      "text/plain": [
       "0    https://a0.muscache.com/im/pictures/user/67b13cea-8c11-49c0-a08d-7f42c330676e.jpg?aki_policy=profile_x_medium\n",
       "1    https://a0.muscache.com/im/pictures/user/6b40475c-26f6-437a-a51d-0a02e938b9e5.jpg?aki_policy=profile_x_medium\n",
       "2    https://a0.muscache.com/im/pictures/user/fffed139-d5ea-41ac-926d-eb4c4717bfbd.jpg?aki_policy=profile_x_medium\n",
       "3          https://a0.muscache.com/im/users/153232/profile_pic/1317563156/original.jpg?aki_policy=profile_x_medium\n",
       "4          https://a0.muscache.com/im/users/153691/profile_pic/1277774787/original.jpg?aki_policy=profile_x_medium\n",
       "Name: host_picture_url, dtype: object"
      ]
     },
     "execution_count": 25,
     "metadata": {},
     "output_type": "execute_result"
    }
   ],
   "source": [
    "pd.set_option(\"max_colwidth\", None)\n",
    "df1[\"host_picture_url\"].head()"
   ]
  },
  {
   "cell_type": "code",
   "execution_count": 26,
   "metadata": {},
   "outputs": [
    {
     "data": {
      "text/html": [
       "<div>\n",
       "<style scoped>\n",
       "    .dataframe tbody tr th:only-of-type {\n",
       "        vertical-align: middle;\n",
       "    }\n",
       "\n",
       "    .dataframe tbody tr th {\n",
       "        vertical-align: top;\n",
       "    }\n",
       "\n",
       "    .dataframe thead th {\n",
       "        text-align: right;\n",
       "    }\n",
       "</style>\n",
       "<table border=\"1\" class=\"dataframe\">\n",
       "  <thead>\n",
       "    <tr style=\"text-align: right;\">\n",
       "      <th></th>\n",
       "      <th>id</th>\n",
       "      <th>listing_url</th>\n",
       "      <th>scrape_id</th>\n",
       "      <th>last_scraped</th>\n",
       "      <th>name</th>\n",
       "      <th>description</th>\n",
       "      <th>neighborhood_overview</th>\n",
       "      <th>picture_url</th>\n",
       "      <th>host_id</th>\n",
       "      <th>host_url</th>\n",
       "      <th>...</th>\n",
       "      <th>last_scraped_y</th>\n",
       "      <th>picture_url_tipo</th>\n",
       "      <th>host_since_d</th>\n",
       "      <th>host_since_m</th>\n",
       "      <th>host_since_y</th>\n",
       "      <th>host_location_</th>\n",
       "      <th>host_location_brazil</th>\n",
       "      <th>host_thumbnail_url_</th>\n",
       "      <th>host_thumbnail_url_o</th>\n",
       "      <th>host_picture_url_</th>\n",
       "    </tr>\n",
       "  </thead>\n",
       "  <tbody>\n",
       "    <tr>\n",
       "      <th>0</th>\n",
       "      <td>17878</td>\n",
       "      <td>https:...</td>\n",
       "      <td>202102...</td>\n",
       "      <td>2021-02-23</td>\n",
       "      <td>Very N...</td>\n",
       "      <td>Discou...</td>\n",
       "      <td>This i...</td>\n",
       "      <td>https:...</td>\n",
       "      <td>68997</td>\n",
       "      <td>https:...</td>\n",
       "      <td>...</td>\n",
       "      <td>0.010952</td>\n",
       "      <td>jpg</td>\n",
       "      <td>4068.0</td>\n",
       "      <td>133.65...</td>\n",
       "      <td>11.137806</td>\n",
       "      <td>41.0</td>\n",
       "      <td>1</td>\n",
       "      <td>-1.0</td>\n",
       "      <td>0</td>\n",
       "      <td>-1.0</td>\n",
       "    </tr>\n",
       "    <tr>\n",
       "      <th>1</th>\n",
       "      <td>24480</td>\n",
       "      <td>https:...</td>\n",
       "      <td>202102...</td>\n",
       "      <td>2021-02-23</td>\n",
       "      <td>Nice a...</td>\n",
       "      <td>My stu...</td>\n",
       "      <td>The be...</td>\n",
       "      <td>https:...</td>\n",
       "      <td>99249</td>\n",
       "      <td>https:...</td>\n",
       "      <td>...</td>\n",
       "      <td>0.010952</td>\n",
       "      <td>jpg</td>\n",
       "      <td>3991.0</td>\n",
       "      <td>131.12...</td>\n",
       "      <td>10.926987</td>\n",
       "      <td>32.0</td>\n",
       "      <td>1</td>\n",
       "      <td>-1.0</td>\n",
       "      <td>0</td>\n",
       "      <td>-1.0</td>\n",
       "    </tr>\n",
       "    <tr>\n",
       "      <th>2</th>\n",
       "      <td>25026</td>\n",
       "      <td>https:...</td>\n",
       "      <td>202102...</td>\n",
       "      <td>2021-02-23</td>\n",
       "      <td>Beauti...</td>\n",
       "      <td>Our ap...</td>\n",
       "      <td>Copaca...</td>\n",
       "      <td>https:...</td>\n",
       "      <td>3746246</td>\n",
       "      <td>https:...</td>\n",
       "      <td>...</td>\n",
       "      <td>0.010952</td>\n",
       "      <td>jpg</td>\n",
       "      <td>3069.0</td>\n",
       "      <td>100.83...</td>\n",
       "      <td>8.402637</td>\n",
       "      <td>32.0</td>\n",
       "      <td>1</td>\n",
       "      <td>-1.0</td>\n",
       "      <td>0</td>\n",
       "      <td>-1.0</td>\n",
       "    </tr>\n",
       "  </tbody>\n",
       "</table>\n",
       "<p>3 rows × 87 columns</p>\n",
       "</div>"
      ],
      "text/plain": [
       "      id listing_url  scrape_id last_scraped       name description  \\\n",
       "0  17878  https:...   202102... 2021-02-23    Very N...  Discou...    \n",
       "1  24480  https:...   202102... 2021-02-23    Nice a...  My stu...    \n",
       "2  25026  https:...   202102... 2021-02-23    Beauti...  Our ap...    \n",
       "\n",
       "  neighborhood_overview picture_url  host_id   host_url  ... last_scraped_y  \\\n",
       "0  This i...             https:...     68997  https:...  ...   0.010952       \n",
       "1  The be...             https:...     99249  https:...  ...   0.010952       \n",
       "2  Copaca...             https:...   3746246  https:...  ...   0.010952       \n",
       "\n",
       "  picture_url_tipo host_since_d host_since_m host_since_y host_location_  \\\n",
       "0        jpg           4068.0    133.65...    11.137806         41.0       \n",
       "1        jpg           3991.0    131.12...    10.926987         32.0       \n",
       "2        jpg           3069.0    100.83...     8.402637         32.0       \n",
       "\n",
       "  host_location_brazil host_thumbnail_url_ host_thumbnail_url_o  \\\n",
       "0          1                 -1.0                   0             \n",
       "1          1                 -1.0                   0             \n",
       "2          1                 -1.0                   0             \n",
       "\n",
       "  host_picture_url_  \n",
       "0       -1.0         \n",
       "1       -1.0         \n",
       "2       -1.0         \n",
       "\n",
       "[3 rows x 87 columns]"
      ]
     },
     "execution_count": 26,
     "metadata": {},
     "output_type": "execute_result"
    }
   ],
   "source": [
    "df1[\"host_picture_url_\"] = df1[\"host_picture_url\"].str.find(\"original\")\n",
    "pd.set_option(\"max_colwidth\", 10)\n",
    "df1.head(3)"
   ]
  },
  {
   "cell_type": "code",
   "execution_count": 27,
   "metadata": {},
   "outputs": [],
   "source": [
    "def host_picture_url_bin(x):\n",
    "    if x < 0:\n",
    "        return 0\n",
    "    else:\n",
    "        return 1"
   ]
  },
  {
   "cell_type": "code",
   "execution_count": 28,
   "metadata": {},
   "outputs": [
    {
     "data": {
      "text/plain": [
       "0    21309\n",
       "1     5306\n",
       "Name: host_picture_url_o, dtype: int64"
      ]
     },
     "execution_count": 28,
     "metadata": {},
     "output_type": "execute_result"
    }
   ],
   "source": [
    "df1[\"host_picture_url_o\"] = df1[\"host_picture_url_\"].apply(host_picture_url_bin)\n",
    "pd.value_counts(df1[\"host_picture_url_o\"])"
   ]
  },
  {
   "cell_type": "markdown",
   "metadata": {},
   "source": [
    "#### Criando variáveis binárias a partir da host_verifications\n",
    "- Identificar itens com maior frequência\n",
    "- Criando variável binária para cada item"
   ]
  },
  {
   "cell_type": "code",
   "execution_count": 29,
   "metadata": {},
   "outputs": [
    {
     "data": {
      "text/plain": [
       "0    ['email', 'phone', 'reviews', 'jumio', 'offline_government_id', 'selfie', 'government_id']\n",
       "1                           ['email', 'phone', 'facebook', 'reviews', 'jumio', 'government_id']\n",
       "2                       ['phone', 'reviews', 'jumio', 'offline_government_id', 'government_id']\n",
       "3         ['email', 'phone', 'facebook', 'reviews', 'manual_offline', 'jumio', 'government_id']\n",
       "4                                       ['email', 'phone', 'reviews', 'jumio', 'government_id']\n",
       "Name: host_verifications, dtype: object"
      ]
     },
     "execution_count": 29,
     "metadata": {},
     "output_type": "execute_result"
    }
   ],
   "source": [
    "pd.set_option(\"max_colwidth\", None)\n",
    "df1[\"host_verifications\"].head(5)"
   ]
  },
  {
   "cell_type": "code",
   "execution_count": 30,
   "metadata": {},
   "outputs": [
    {
     "data": {
      "text/plain": [
       "0    email phone reviews jumio offline_government_id selfie government_id\n",
       "1                        email phone facebook reviews jumio government_id\n",
       "2                 phone reviews jumio offline_government_id government_id\n",
       "3         email phone facebook reviews manual_offline jumio government_id\n",
       "4                                 email phone reviews jumio government_id\n",
       "Name: host_verifications_, dtype: object"
      ]
     },
     "execution_count": 30,
     "metadata": {},
     "output_type": "execute_result"
    }
   ],
   "source": [
    "df1[\"host_verifications_\"] = df1[\"host_verifications\"].str.replace(\"[,\\[\\]\\']\", \"\")\n",
    "pd.set_option(\"max_colwidth\", None)\n",
    "df1[\"host_verifications_\"].head(5)"
   ]
  },
  {
   "cell_type": "code",
   "execution_count": 31,
   "metadata": {
    "scrolled": true
   },
   "outputs": [
    {
     "name": "stdout",
     "output_type": "stream",
     "text": [
      "phone                    26190\n",
      "email                    23854\n",
      "government_id            16853\n",
      "jumio                    14263\n",
      "reviews                  13235\n",
      "offline_government_id    11516\n",
      "selfie                    7984\n",
      "identity_manual           7331\n",
      "facebook                  6192\n",
      "work_email                2513\n",
      "google                    1454\n",
      "manual_offline             570\n",
      "manual_online              130\n",
      "kba                        124\n",
      "None                        24\n",
      "sent_id                     18\n",
      "dtype: int64\n"
     ]
    }
   ],
   "source": [
    "freq = pd.Series(' '.join(df1[\"host_verifications_\"]).split()).value_counts()[:]\n",
    "print(freq)"
   ]
  },
  {
   "cell_type": "code",
   "execution_count": 32,
   "metadata": {},
   "outputs": [],
   "source": [
    "def host_verifications_bin(x):\n",
    "    if x < 0:\n",
    "        return 0\n",
    "    else:\n",
    "        return 1"
   ]
  },
  {
   "cell_type": "code",
   "execution_count": 33,
   "metadata": {},
   "outputs": [
    {
     "data": {
      "text/plain": [
       "1    26190\n",
       "0      425\n",
       "Name: host_verifications_phone, dtype: int64"
      ]
     },
     "execution_count": 33,
     "metadata": {},
     "output_type": "execute_result"
    }
   ],
   "source": [
    "df1[\"host_verifications_\"] = df1[\"host_verifications\"].str.find(\"phone\")\n",
    "df1[\"host_verifications_phone\"] = df1[\"host_verifications_\"].apply(host_verifications_bin)\n",
    "pd.value_counts(df1[\"host_verifications_phone\"])"
   ]
  },
  {
   "cell_type": "code",
   "execution_count": 34,
   "metadata": {},
   "outputs": [
    {
     "data": {
      "text/plain": [
       "1    23948\n",
       "0     2667\n",
       "Name: host_verifications_email, dtype: int64"
      ]
     },
     "execution_count": 34,
     "metadata": {},
     "output_type": "execute_result"
    }
   ],
   "source": [
    "df1[\"host_verifications_\"] = df1[\"host_verifications\"].str.find(\"email\")\n",
    "df1[\"host_verifications_email\"] = df1[\"host_verifications_\"].apply(host_verifications_bin)\n",
    "pd.value_counts(df1[\"host_verifications_email\"])"
   ]
  },
  {
   "cell_type": "code",
   "execution_count": 35,
   "metadata": {},
   "outputs": [
    {
     "data": {
      "text/plain": [
       "1    16855\n",
       "0     9760\n",
       "Name: host_verifications_government_id, dtype: int64"
      ]
     },
     "execution_count": 35,
     "metadata": {},
     "output_type": "execute_result"
    }
   ],
   "source": [
    "df1[\"host_verifications_\"] = df1[\"host_verifications\"].str.find(\"government_id\")\n",
    "df1[\"host_verifications_government_id\"] = df1[\"host_verifications_\"].apply(host_verifications_bin)\n",
    "pd.value_counts(df1[\"host_verifications_government_id\"])"
   ]
  },
  {
   "cell_type": "code",
   "execution_count": 36,
   "metadata": {},
   "outputs": [
    {
     "data": {
      "text/plain": [
       "1    14263\n",
       "0    12352\n",
       "Name: host_verifications_jumio, dtype: int64"
      ]
     },
     "execution_count": 36,
     "metadata": {},
     "output_type": "execute_result"
    }
   ],
   "source": [
    "df1[\"host_verifications_\"] = df1[\"host_verifications\"].str.find(\"jumio\")\n",
    "df1[\"host_verifications_jumio\"] = df1[\"host_verifications_\"].apply(host_verifications_bin)\n",
    "pd.value_counts(df1[\"host_verifications_jumio\"])"
   ]
  },
  {
   "cell_type": "code",
   "execution_count": 37,
   "metadata": {},
   "outputs": [
    {
     "data": {
      "text/plain": [
       "0    13380\n",
       "1    13235\n",
       "Name: host_verifications_reviews, dtype: int64"
      ]
     },
     "execution_count": 37,
     "metadata": {},
     "output_type": "execute_result"
    }
   ],
   "source": [
    "df1[\"host_verifications_\"] = df1[\"host_verifications\"].str.find(\"reviews\")\n",
    "df1[\"host_verifications_reviews\"] = df1[\"host_verifications_\"].apply(host_verifications_bin)\n",
    "pd.value_counts(df1[\"host_verifications_reviews\"])"
   ]
  },
  {
   "cell_type": "code",
   "execution_count": 38,
   "metadata": {},
   "outputs": [
    {
     "data": {
      "text/plain": [
       "0    15099\n",
       "1    11516\n",
       "Name: host_verifications_offline_government_id, dtype: int64"
      ]
     },
     "execution_count": 38,
     "metadata": {},
     "output_type": "execute_result"
    }
   ],
   "source": [
    "df1[\"host_verifications_\"] = df1[\"host_verifications\"].str.find(\"offline_government_id\")\n",
    "df1[\"host_verifications_offline_government_id\"] = df1[\"host_verifications_\"].apply(host_verifications_bin)\n",
    "pd.value_counts(df1[\"host_verifications_offline_government_id\"])"
   ]
  },
  {
   "cell_type": "code",
   "execution_count": 39,
   "metadata": {},
   "outputs": [
    {
     "data": {
      "text/plain": [
       "0    18631\n",
       "1     7984\n",
       "Name: host_verifications_selfie, dtype: int64"
      ]
     },
     "execution_count": 39,
     "metadata": {},
     "output_type": "execute_result"
    }
   ],
   "source": [
    "df1[\"host_verifications_\"] = df1[\"host_verifications\"].str.find(\"selfie\")\n",
    "df1[\"host_verifications_selfie\"] = df1[\"host_verifications_\"].apply(host_verifications_bin)\n",
    "pd.value_counts(df1[\"host_verifications_selfie\"])"
   ]
  },
  {
   "cell_type": "code",
   "execution_count": 40,
   "metadata": {},
   "outputs": [
    {
     "data": {
      "text/plain": [
       "0    19284\n",
       "1     7331\n",
       "Name: host_verifications_identity_manual, dtype: int64"
      ]
     },
     "execution_count": 40,
     "metadata": {},
     "output_type": "execute_result"
    }
   ],
   "source": [
    "df1[\"host_verifications_\"] = df1[\"host_verifications\"].str.find(\"identity_manual\")\n",
    "df1[\"host_verifications_identity_manual\"] = df1[\"host_verifications_\"].apply(host_verifications_bin)\n",
    "pd.value_counts(df1[\"host_verifications_identity_manual\"])"
   ]
  },
  {
   "cell_type": "code",
   "execution_count": 41,
   "metadata": {},
   "outputs": [
    {
     "data": {
      "text/plain": [
       "0    20423\n",
       "1     6192\n",
       "Name: host_verifications_facebook, dtype: int64"
      ]
     },
     "execution_count": 41,
     "metadata": {},
     "output_type": "execute_result"
    }
   ],
   "source": [
    "df1[\"host_verifications_\"] = df1[\"host_verifications\"].str.find(\"facebook\")\n",
    "df1[\"host_verifications_facebook\"] = df1[\"host_verifications_\"].apply(host_verifications_bin)\n",
    "pd.value_counts(df1[\"host_verifications_facebook\"])"
   ]
  },
  {
   "cell_type": "code",
   "execution_count": 42,
   "metadata": {},
   "outputs": [
    {
     "data": {
      "text/plain": [
       "0    24102\n",
       "1     2513\n",
       "Name: host_verifications_work_email, dtype: int64"
      ]
     },
     "execution_count": 42,
     "metadata": {},
     "output_type": "execute_result"
    }
   ],
   "source": [
    "df1[\"host_verifications_\"] = df1[\"host_verifications\"].str.find(\"work_email\")\n",
    "df1[\"host_verifications_work_email\"] = df1[\"host_verifications_\"].apply(host_verifications_bin)\n",
    "pd.value_counts(df1[\"host_verifications_work_email\"])"
   ]
  },
  {
   "cell_type": "code",
   "execution_count": 43,
   "metadata": {},
   "outputs": [
    {
     "data": {
      "text/plain": [
       "0    25161\n",
       "1     1454\n",
       "Name: host_verifications_google, dtype: int64"
      ]
     },
     "execution_count": 43,
     "metadata": {},
     "output_type": "execute_result"
    }
   ],
   "source": [
    "df1[\"host_verifications_\"] = df1[\"host_verifications\"].str.find(\"google\")\n",
    "df1[\"host_verifications_google\"] = df1[\"host_verifications_\"].apply(host_verifications_bin)\n",
    "pd.value_counts(df1[\"host_verifications_google\"])"
   ]
  },
  {
   "cell_type": "markdown",
   "metadata": {},
   "source": [
    "#### Quanditade de banheiros\n",
    "- Removendo parte numérica da variável bathrooms_text\n",
    "- Transformando em float64"
   ]
  },
  {
   "cell_type": "code",
   "execution_count": 44,
   "metadata": {},
   "outputs": [
    {
     "name": "stdout",
     "output_type": "stream",
     "text": [
      "     0      1     2\n",
      "0    1   bath  None\n",
      "1    1   bath  None\n",
      "2    1   bath  None\n",
      "3  1.5  baths  None\n",
      "4    1   bath  None\n"
     ]
    }
   ],
   "source": [
    "bathrooms_text = pd.DataFrame(df1.bathrooms_text.str.split(\" \", expand = True))\n",
    "print(bathrooms_text.head(5))"
   ]
  },
  {
   "cell_type": "code",
   "execution_count": 45,
   "metadata": {},
   "outputs": [
    {
     "data": {
      "text/html": [
       "<div>\n",
       "<style scoped>\n",
       "    .dataframe tbody tr th:only-of-type {\n",
       "        vertical-align: middle;\n",
       "    }\n",
       "\n",
       "    .dataframe tbody tr th {\n",
       "        vertical-align: top;\n",
       "    }\n",
       "\n",
       "    .dataframe thead th {\n",
       "        text-align: right;\n",
       "    }\n",
       "</style>\n",
       "<table border=\"1\" class=\"dataframe\">\n",
       "  <thead>\n",
       "    <tr style=\"text-align: right;\">\n",
       "      <th></th>\n",
       "      <th>bathrooms_text_vol</th>\n",
       "    </tr>\n",
       "  </thead>\n",
       "  <tbody>\n",
       "    <tr>\n",
       "      <th>0</th>\n",
       "      <td>1</td>\n",
       "    </tr>\n",
       "    <tr>\n",
       "      <th>1</th>\n",
       "      <td>1</td>\n",
       "    </tr>\n",
       "    <tr>\n",
       "      <th>2</th>\n",
       "      <td>1</td>\n",
       "    </tr>\n",
       "    <tr>\n",
       "      <th>3</th>\n",
       "      <td>1.5</td>\n",
       "    </tr>\n",
       "    <tr>\n",
       "      <th>4</th>\n",
       "      <td>1</td>\n",
       "    </tr>\n",
       "  </tbody>\n",
       "</table>\n",
       "</div>"
      ],
      "text/plain": [
       "  bathrooms_text_vol\n",
       "0                  1\n",
       "1                  1\n",
       "2                  1\n",
       "3                1.5\n",
       "4                  1"
      ]
     },
     "execution_count": 45,
     "metadata": {},
     "output_type": "execute_result"
    }
   ],
   "source": [
    "bathrooms_text = pd.DataFrame({\"bathrooms_text_vol\": bathrooms_text.iloc[:,0]})\n",
    "bathrooms_text.head()"
   ]
  },
  {
   "cell_type": "code",
   "execution_count": 46,
   "metadata": {},
   "outputs": [
    {
     "data": {
      "text/plain": [
       "1            14645\n",
       "2             5870\n",
       "1.5           1738\n",
       "3             1641\n",
       "2.5           1040\n",
       "3.5            429\n",
       "4              388\n",
       "4.5            176\n",
       "5              153\n",
       "6               93\n",
       "0               78\n",
       "5.5             77\n",
       "7               63\n",
       "6.5             42\n",
       "8               41\n",
       "7.5             16\n",
       "Shared          13\n",
       "Half-bath        8\n",
       "11               5\n",
       "8.5              4\n",
       "Private          4\n",
       "9                3\n",
       "20               2\n",
       "10               2\n",
       "10.5             2\n",
       "15               2\n",
       "12               2\n",
       "9.5              1\n",
       "13               1\n",
       "12.5             1\n",
       "11.5             1\n",
       "15.5             1\n",
       "18               1\n",
       "Name: bathrooms_text_vol, dtype: int64"
      ]
     },
     "execution_count": 46,
     "metadata": {},
     "output_type": "execute_result"
    }
   ],
   "source": [
    "pd.value_counts(bathrooms_text[\"bathrooms_text_vol\"])"
   ]
  },
  {
   "cell_type": "code",
   "execution_count": 47,
   "metadata": {},
   "outputs": [
    {
     "data": {
      "text/plain": [
       "1.0     14670\n",
       "2.0      5870\n",
       "1.5      1738\n",
       "3.0      1641\n",
       "2.5      1040\n",
       "3.5       429\n",
       "4.0       388\n",
       "4.5       176\n",
       "5.0       153\n",
       "6.0        93\n",
       "0.0        78\n",
       "5.5        77\n",
       "7.0        63\n",
       "6.5        42\n",
       "8.0        41\n",
       "7.5        16\n",
       "11.0        5\n",
       "8.5         4\n",
       "9.0         3\n",
       "12.0        2\n",
       "10.0        2\n",
       "20.0        2\n",
       "10.5        2\n",
       "15.0        2\n",
       "12.5        1\n",
       "18.0        1\n",
       "9.5         1\n",
       "15.5        1\n",
       "13.0        1\n",
       "11.5        1\n",
       "Name: bathrooms_text_vol, dtype: int64"
      ]
     },
     "execution_count": 47,
     "metadata": {},
     "output_type": "execute_result"
    }
   ],
   "source": [
    "bathrooms_text[\"bathrooms_text_vol\"] = bathrooms_text[\"bathrooms_text_vol\"].str.replace(\"Shared\",\"1\" )\n",
    "bathrooms_text[\"bathrooms_text_vol\"] = bathrooms_text[\"bathrooms_text_vol\"].str.replace(\"Private\",\"1\" )\n",
    "bathrooms_text[\"bathrooms_text_vol\"] = bathrooms_text[\"bathrooms_text_vol\"].str.replace(\"Half-bath\",\"1\" )\n",
    "bathrooms_text[\"bathrooms_text_vol\"] = bathrooms_text[\"bathrooms_text_vol\"].astype(\"float64\")\n",
    "df1[\"bathrooms_text_vol\"] = bathrooms_text[\"bathrooms_text_vol\"]\n",
    "pd.value_counts(df1[\"bathrooms_text_vol\"])"
   ]
  },
  {
   "cell_type": "markdown",
   "metadata": {},
   "source": [
    "#### Tranformando a variável host_response_rate em float\n",
    "- Vou remover o %\n",
    "- Vou dividir por 100"
   ]
  },
  {
   "cell_type": "code",
   "execution_count": 48,
   "metadata": {},
   "outputs": [
    {
     "data": {
      "text/plain": [
       "0    1.00\n",
       "1    1.00\n",
       "2    0.97\n",
       "3     NaN\n",
       "4    1.00\n",
       "Name: host_response_rate_, dtype: float64"
      ]
     },
     "execution_count": 48,
     "metadata": {},
     "output_type": "execute_result"
    }
   ],
   "source": [
    "df1[\"host_response_rate_\"] = df1[\"host_response_rate\"].str.replace(\"%\",\"\" )\n",
    "df1[\"host_response_rate_\"] = df1[\"host_response_rate_\"].astype(\"float\")\n",
    "df1[\"host_response_rate_\"] = df1[\"host_response_rate_\"] / 100\n",
    "df1[\"host_response_rate_\"].head()"
   ]
  },
  {
   "cell_type": "markdown",
   "metadata": {},
   "source": [
    "#### Tranformando a variável host_acceptance_rate em float\n",
    "- Vou remover o %\n",
    "- Vou dividir por 100"
   ]
  },
  {
   "cell_type": "code",
   "execution_count": 49,
   "metadata": {},
   "outputs": [
    {
     "data": {
      "text/plain": [
       "0    1.00\n",
       "1     NaN\n",
       "2    0.78\n",
       "3    1.00\n",
       "4    0.94\n",
       "Name: host_acceptance_rate_, dtype: float64"
      ]
     },
     "execution_count": 49,
     "metadata": {},
     "output_type": "execute_result"
    }
   ],
   "source": [
    "df1[\"host_acceptance_rate_\"] = df1[\"host_acceptance_rate\"].str.replace(\"%\",\"\" )\n",
    "df1[\"host_acceptance_rate_\"] = df1[\"host_acceptance_rate_\"].str.replace(\" \",\"\" )\n",
    "df1[\"host_acceptance_rate_\"] = df1[\"host_acceptance_rate_\"].astype(\"float\")\n",
    "df1[\"host_acceptance_rate_\"] = df1[\"host_acceptance_rate_\"] / 100\n",
    "df1[\"host_acceptance_rate_\"].head()"
   ]
  },
  {
   "cell_type": "markdown",
   "metadata": {},
   "source": [
    "#### Tranformando a variável price em float\n",
    "- Vou remover o $\n",
    "- Remover as vírgulas\n",
    "- Converter em numerico"
   ]
  },
  {
   "cell_type": "code",
   "execution_count": 50,
   "metadata": {},
   "outputs": [
    {
     "data": {
      "text/plain": [
       "0    $221.00\n",
       "1    $307.00\n",
       "2    $160.00\n",
       "3    $273.00\n",
       "4    $135.00\n",
       "Name: price, dtype: object"
      ]
     },
     "execution_count": 50,
     "metadata": {},
     "output_type": "execute_result"
    }
   ],
   "source": [
    "df1[\"price\"].head()"
   ]
  },
  {
   "cell_type": "code",
   "execution_count": 51,
   "metadata": {},
   "outputs": [],
   "source": [
    "df1[\"price\"].to_csv(\"price.csv\" ,index=False)"
   ]
  },
  {
   "cell_type": "code",
   "execution_count": 52,
   "metadata": {
    "scrolled": true
   },
   "outputs": [
    {
     "data": {
      "text/plain": [
       "0     221.0\n",
       "1     307.0\n",
       "2     160.0\n",
       "3     273.0\n",
       "4     135.0\n",
       "5     484.0\n",
       "6    1751.0\n",
       "7     540.0\n",
       "8     160.0\n",
       "9     782.0\n",
       "Name: price_, dtype: float64"
      ]
     },
     "execution_count": 52,
     "metadata": {},
     "output_type": "execute_result"
    }
   ],
   "source": [
    "df1[\"price_\"] = df1[\"price\"].str.replace(r'$',\"\")\n",
    "df1[\"price_\"] = df1[\"price_\"].str.replace(\",\",\"\" )\n",
    "df1[\"price_\"] = df1[\"price_\"].astype(\"float\")\n",
    "df1[\"price_\"].head(10)"
   ]
  },
  {
   "cell_type": "markdown",
   "metadata": {},
   "source": [
    "#### Criando variável first_review para D, M e Y\n",
    "- Volume de dias da data de carregamento destas bases e ultipo scraping no anúncio\n",
    "- Utilizando a variável first_review para o cálculo"
   ]
  },
  {
   "cell_type": "code",
   "execution_count": 53,
   "metadata": {},
   "outputs": [
    {
     "name": "stdout",
     "output_type": "stream",
     "text": [
      "367.0     262\n",
      "510.0     183\n",
      "422.0     181\n",
      "55.0      176\n",
      "517.0     171\n",
      "         ... \n",
      "688.0       1\n",
      "2297.0      1\n",
      "3614.0      1\n",
      "1983.0      1\n",
      "2816.0      1\n",
      "Name: first_review_d, Length: 2610, dtype: int64\n"
     ]
    }
   ],
   "source": [
    "# Criando variável em dias\n",
    "df1[\"first_review\"] = df1[\"first_review\"].astype(\"string\")\n",
    "df1[\"first_review\"] = pd.to_datetime(df1[\"first_review\"])\n",
    "df1[\"last_day\"] = \"2021-02-27\"\n",
    "df1[\"last_day\"] = pd.to_datetime(df1[\"last_day\"])\n",
    "df1[\"first_review_d\"] = df1[\"last_day\"] - df1[\"first_review\"]\n",
    "df1[\"first_review_d\"] = df1[\"first_review_d\"] / np.timedelta64(1, \"D\")\n",
    "print(pd.value_counts(df1[\"first_review_d\"]))"
   ]
  },
  {
   "cell_type": "code",
   "execution_count": 54,
   "metadata": {},
   "outputs": [
    {
     "name": "stdout",
     "output_type": "stream",
     "text": [
      "12.057742    262\n",
      "16.755991    183\n",
      "13.864761    181\n",
      "1.807019     176\n",
      "16.985975    171\n",
      "            ... \n",
      "39.622990      1\n",
      "50.826506      1\n",
      "8.377995       1\n",
      "83.090002      1\n",
      "62.884248      1\n",
      "Name: first_review_m, Length: 2610, dtype: int64\n"
     ]
    }
   ],
   "source": [
    "# Criando variável em meses\n",
    "df1[\"first_review\"] = df1[\"first_review\"].astype(\"string\")\n",
    "df1[\"first_review\"] = pd.to_datetime(df1[\"first_review\"])\n",
    "df1[\"last_day\"] = \"2021-02-27\"\n",
    "df1[\"last_day\"] = pd.to_datetime(df1[\"last_day\"])\n",
    "df1[\"first_review_m\"] = df1[\"last_day\"] - df1[\"first_review\"]\n",
    "df1[\"first_review_m\"] = df1[\"first_review_m\"] / np.timedelta64(1, \"M\")\n",
    "print(pd.value_counts(df1[\"first_review_m\"]))"
   ]
  },
  {
   "cell_type": "code",
   "execution_count": 55,
   "metadata": {},
   "outputs": [
    {
     "name": "stdout",
     "output_type": "stream",
     "text": [
      "1.004812    262\n",
      "1.396333    183\n",
      "1.155397    181\n",
      "0.150585    176\n",
      "1.415498    171\n",
      "           ... \n",
      "5.850907      1\n",
      "6.231476      1\n",
      "9.139134      1\n",
      "4.418982      1\n",
      "5.872811      1\n",
      "Name: first_review_y, Length: 2610, dtype: int64\n"
     ]
    }
   ],
   "source": [
    "# Criando variável em anos\n",
    "df1[\"first_review\"] = df1[\"first_review\"].astype(\"string\")\n",
    "df1[\"first_review\"] = pd.to_datetime(df1[\"first_review\"])\n",
    "df1[\"last_day\"] = \"2021-02-27\"\n",
    "df1[\"last_day\"] = pd.to_datetime(df1[\"last_day\"])\n",
    "df1[\"first_review_y\"] = df1[\"last_day\"] - df1[\"first_review\"]\n",
    "df1[\"first_review_y\"] = df1[\"first_review_y\"] / np.timedelta64(1, \"Y\")\n",
    "print(pd.value_counts(df1[\"first_review_y\"]))"
   ]
  },
  {
   "cell_type": "markdown",
   "metadata": {},
   "source": [
    "#### Criando variável last_review para D, M e Y\n",
    "- Volume de dias da data de carregamento destas bases e ultipo scraping no anúncio\n",
    "- Utilizando a variável last_review para o cálculo"
   ]
  },
  {
   "cell_type": "code",
   "execution_count": 56,
   "metadata": {},
   "outputs": [
    {
     "name": "stdout",
     "output_type": "stream",
     "text": [
      "367.0     681\n",
      "55.0      530\n",
      "10.0      511\n",
      "368.0     390\n",
      "11.0      317\n",
      "         ... \n",
      "574.0       1\n",
      "189.0       1\n",
      "234.0       1\n",
      "1300.0      1\n",
      "241.0       1\n",
      "Name: last_review_d, Length: 1469, dtype: int64\n"
     ]
    }
   ],
   "source": [
    "# Criando variável em dias\n",
    "df1[\"last_review\"] = df1[\"last_review\"].astype(\"string\")\n",
    "df1[\"last_review\"] = pd.to_datetime(df1[\"last_review\"])\n",
    "df1[\"last_day\"] = \"2021-02-27\"\n",
    "df1[\"last_day\"] = pd.to_datetime(df1[\"last_day\"])\n",
    "df1[\"last_review_d\"] = df1[\"last_day\"] - df1[\"last_review\"]\n",
    "df1[\"last_review_d\"] = df1[\"last_review_d\"] / np.timedelta64(1, \"D\")\n",
    "print(pd.value_counts(df1[\"last_review_d\"]))"
   ]
  },
  {
   "cell_type": "code",
   "execution_count": 57,
   "metadata": {},
   "outputs": [
    {
     "name": "stdout",
     "output_type": "stream",
     "text": [
      "12.057742    681\n",
      "1.807019     530\n",
      "0.328549     511\n",
      "12.090597    390\n",
      "0.361404     317\n",
      "            ... \n",
      "21.552804      1\n",
      "8.279431       1\n",
      "32.296351      1\n",
      "9.823610       1\n",
      "77.373252      1\n",
      "Name: last_review_m, Length: 1469, dtype: int64\n"
     ]
    }
   ],
   "source": [
    "# Criando variável em meses\n",
    "df1[\"last_review\"] = df1[\"last_review\"].astype(\"string\")\n",
    "df1[\"last_review\"] = pd.to_datetime(df1[\"last_review\"])\n",
    "df1[\"last_day\"] = \"2021-02-27\"\n",
    "df1[\"last_day\"] = pd.to_datetime(df1[\"last_day\"])\n",
    "df1[\"last_review_m\"] = df1[\"last_day\"] - df1[\"last_review\"]\n",
    "df1[\"last_review_m\"] = df1[\"last_review_m\"] / np.timedelta64(1, \"M\")\n",
    "print(pd.value_counts(df1[\"last_review_m\"]))"
   ]
  },
  {
   "cell_type": "code",
   "execution_count": 58,
   "metadata": {},
   "outputs": [
    {
     "name": "stdout",
     "output_type": "stream",
     "text": [
      "1.004812    681\n",
      "0.150585    530\n",
      "0.027379    511\n",
      "1.007550    390\n",
      "0.030117    317\n",
      "           ... \n",
      "3.967227      1\n",
      "2.795403      1\n",
      "2.253297      1\n",
      "2.978843      1\n",
      "2.631129      1\n",
      "Name: last_review_y, Length: 1469, dtype: int64\n"
     ]
    }
   ],
   "source": [
    "# Criando variável em anos\n",
    "df1[\"last_review\"] = df1[\"last_review\"].astype(\"string\")\n",
    "df1[\"last_review\"] = pd.to_datetime(df1[\"last_review\"])\n",
    "df1[\"last_day\"] = \"2021-02-27\"\n",
    "df1[\"last_day\"] = pd.to_datetime(df1[\"last_day\"])\n",
    "df1[\"last_review_y\"] = df1[\"last_day\"] - df1[\"last_review\"]\n",
    "df1[\"last_review_y\"] = df1[\"last_review_y\"] / np.timedelta64(1, \"Y\")\n",
    "print(pd.value_counts(df1[\"last_review_y\"]))"
   ]
  },
  {
   "cell_type": "markdown",
   "metadata": {},
   "source": [
    "#### Montando dataset para rodar modelos de classificação"
   ]
  },
  {
   "cell_type": "code",
   "execution_count": 59,
   "metadata": {},
   "outputs": [],
   "source": [
    "df2 = df1[[\"last_scraped_d\",\n",
    "\"last_scraped_m\",\n",
    "\"last_scraped_y\",\n",
    "\"host_since_d\",\n",
    "\"host_since_m\",\n",
    "\"host_since_y\",\n",
    "\"first_review_d\",\n",
    "\"first_review_m\",\n",
    "\"first_review_y\",\n",
    "\"last_review_d\",\n",
    "\"last_review_m\",\n",
    "\"last_review_y\",\n",
    "\"host_listings_count\",\n",
    "\"host_total_listings_count\",\n",
    "\"latitude\",\n",
    "\"longitude\",\n",
    "\"bathrooms_text_vol\",\n",
    "\"bedrooms\",\n",
    "\"minimum_minimum_nights\",\n",
    "\"maximum_minimum_nights\",\n",
    "\"minimum_maximum_nights\",\n",
    "\"maximum_maximum_nights\",\n",
    "\"minimum_nights_avg_ntm\",\n",
    "\"maximum_nights_avg_ntm\",\n",
    "\"review_scores_rating\",\n",
    "\"review_scores_accuracy\",\n",
    "\"review_scores_cleanliness\",\n",
    "\"review_scores_checkin\",\n",
    "\"review_scores_communication\",\n",
    "\"review_scores_location\",\n",
    "\"review_scores_value\",\n",
    "\"reviews_per_month\",\n",
    "\"host_response_rate_\",\n",
    "\"host_acceptance_rate_\",\n",
    "\"price_\",\n",
    "\"host_location_brazil\",\n",
    "\"host_thumbnail_url_o\",\n",
    "\"host_verifications_phone\",\n",
    "\"host_verifications_email\",\n",
    "\"host_verifications_government_id\",\n",
    "\"host_verifications_jumio\",\n",
    "\"host_verifications_reviews\",\n",
    "\"host_verifications_offline_government_id\",\n",
    "\"host_verifications_selfie\",\n",
    "\"host_verifications_identity_manual\",\n",
    "\"host_verifications_facebook\",\n",
    "\"host_verifications_work_email\",\n",
    "\"host_verifications_google\",\n",
    "\"accommodates\",\n",
    "\"minimum_nights\",\n",
    "\"maximum_nights\",\n",
    "\"availability_30\",\n",
    "\"availability_60\",\n",
    "\"availability_90\",\n",
    "\"availability_365\",\n",
    "\"number_of_reviews\",\n",
    "\"number_of_reviews_ltm\",\n",
    "\"number_of_reviews_l30d\",\n",
    "\"calculated_host_listings_count\",\n",
    "\"calculated_host_listings_count_entire_homes\",\n",
    "\"calculated_host_listings_count_private_rooms\",\n",
    "\"calculated_host_listings_count_shared_rooms\",\n",
    "\"host_response_time\",\n",
    "\"host_is_superhost\",\n",
    "\"host_has_profile_pic\",\n",
    "\"host_identity_verified\",\n",
    "\"has_availability\",\n",
    "\"instant_bookable\",\n",
    "\"picture_url_tipo\",\n",
    "\"room_type\"]]"
   ]
  },
  {
   "cell_type": "code",
   "execution_count": 60,
   "metadata": {
    "scrolled": true
   },
   "outputs": [
    {
     "data": {
      "text/html": [
       "<div>\n",
       "<style scoped>\n",
       "    .dataframe tbody tr th:only-of-type {\n",
       "        vertical-align: middle;\n",
       "    }\n",
       "\n",
       "    .dataframe tbody tr th {\n",
       "        vertical-align: top;\n",
       "    }\n",
       "\n",
       "    .dataframe thead th {\n",
       "        text-align: right;\n",
       "    }\n",
       "</style>\n",
       "<table border=\"1\" class=\"dataframe\">\n",
       "  <thead>\n",
       "    <tr style=\"text-align: right;\">\n",
       "      <th></th>\n",
       "      <th>last_scraped_d</th>\n",
       "      <th>last_scraped_m</th>\n",
       "      <th>last_scraped_y</th>\n",
       "      <th>host_since_d</th>\n",
       "      <th>host_since_m</th>\n",
       "      <th>host_since_y</th>\n",
       "      <th>first_review_d</th>\n",
       "      <th>first_review_m</th>\n",
       "      <th>first_review_y</th>\n",
       "      <th>last_review_d</th>\n",
       "      <th>...</th>\n",
       "      <th>calculated_host_listings_count_private_rooms</th>\n",
       "      <th>calculated_host_listings_count_shared_rooms</th>\n",
       "      <th>host_response_time</th>\n",
       "      <th>host_is_superhost</th>\n",
       "      <th>host_has_profile_pic</th>\n",
       "      <th>host_identity_verified</th>\n",
       "      <th>has_availability</th>\n",
       "      <th>instant_bookable</th>\n",
       "      <th>picture_url_tipo</th>\n",
       "      <th>room_type</th>\n",
       "    </tr>\n",
       "  </thead>\n",
       "  <tbody>\n",
       "    <tr>\n",
       "      <th>0</th>\n",
       "      <td>4.0</td>\n",
       "      <td>0.131420</td>\n",
       "      <td>0.010952</td>\n",
       "      <td>4068.0</td>\n",
       "      <td>133.65...</td>\n",
       "      <td>11.137806</td>\n",
       "      <td>3880.0</td>\n",
       "      <td>127.47...</td>\n",
       "      <td>10.623079</td>\n",
       "      <td>19.0</td>\n",
       "      <td>...</td>\n",
       "      <td>0</td>\n",
       "      <td>0</td>\n",
       "      <td>within...</td>\n",
       "      <td>t</td>\n",
       "      <td>t</td>\n",
       "      <td>t</td>\n",
       "      <td>t</td>\n",
       "      <td>t</td>\n",
       "      <td>jpg</td>\n",
       "      <td>Entire...</td>\n",
       "    </tr>\n",
       "    <tr>\n",
       "      <th>1</th>\n",
       "      <td>4.0</td>\n",
       "      <td>0.131420</td>\n",
       "      <td>0.010952</td>\n",
       "      <td>3991.0</td>\n",
       "      <td>131.12...</td>\n",
       "      <td>10.926987</td>\n",
       "      <td>3807.0</td>\n",
       "      <td>125.07...</td>\n",
       "      <td>10.423212</td>\n",
       "      <td>1109.0</td>\n",
       "      <td>...</td>\n",
       "      <td>0</td>\n",
       "      <td>0</td>\n",
       "      <td>within...</td>\n",
       "      <td>f</td>\n",
       "      <td>t</td>\n",
       "      <td>t</td>\n",
       "      <td>t</td>\n",
       "      <td>f</td>\n",
       "      <td>jpg</td>\n",
       "      <td>Entire...</td>\n",
       "    </tr>\n",
       "    <tr>\n",
       "      <th>2</th>\n",
       "      <td>4.0</td>\n",
       "      <td>0.131420</td>\n",
       "      <td>0.010952</td>\n",
       "      <td>3069.0</td>\n",
       "      <td>100.83...</td>\n",
       "      <td>8.402637</td>\n",
       "      <td>3918.0</td>\n",
       "      <td>128.72...</td>\n",
       "      <td>10.727120</td>\n",
       "      <td>378.0</td>\n",
       "      <td>...</td>\n",
       "      <td>0</td>\n",
       "      <td>0</td>\n",
       "      <td>within...</td>\n",
       "      <td>f</td>\n",
       "      <td>t</td>\n",
       "      <td>f</td>\n",
       "      <td>t</td>\n",
       "      <td>f</td>\n",
       "      <td>jpg</td>\n",
       "      <td>Entire...</td>\n",
       "    </tr>\n",
       "    <tr>\n",
       "      <th>3</th>\n",
       "      <td>3.0</td>\n",
       "      <td>0.098565</td>\n",
       "      <td>0.008214</td>\n",
       "      <td>3898.0</td>\n",
       "      <td>128.06...</td>\n",
       "      <td>10.672362</td>\n",
       "      <td>2685.0</td>\n",
       "      <td>88.215364</td>\n",
       "      <td>7.351280</td>\n",
       "      <td>349.0</td>\n",
       "      <td>...</td>\n",
       "      <td>0</td>\n",
       "      <td>0</td>\n",
       "      <td>NaN</td>\n",
       "      <td>t</td>\n",
       "      <td>t</td>\n",
       "      <td>t</td>\n",
       "      <td>t</td>\n",
       "      <td>f</td>\n",
       "      <td>jpg</td>\n",
       "      <td>Entire...</td>\n",
       "    </tr>\n",
       "    <tr>\n",
       "      <th>4</th>\n",
       "      <td>4.0</td>\n",
       "      <td>0.131420</td>\n",
       "      <td>0.010952</td>\n",
       "      <td>3898.0</td>\n",
       "      <td>128.06...</td>\n",
       "      <td>10.672362</td>\n",
       "      <td>3800.0</td>\n",
       "      <td>124.84...</td>\n",
       "      <td>10.404047</td>\n",
       "      <td>17.0</td>\n",
       "      <td>...</td>\n",
       "      <td>0</td>\n",
       "      <td>0</td>\n",
       "      <td>within...</td>\n",
       "      <td>t</td>\n",
       "      <td>t</td>\n",
       "      <td>t</td>\n",
       "      <td>t</td>\n",
       "      <td>f</td>\n",
       "      <td>jpg</td>\n",
       "      <td>Entire...</td>\n",
       "    </tr>\n",
       "  </tbody>\n",
       "</table>\n",
       "<p>5 rows × 70 columns</p>\n",
       "</div>"
      ],
      "text/plain": [
       "   last_scraped_d  last_scraped_m  last_scraped_y  host_since_d  host_since_m  \\\n",
       "0        4.0        0.131420        0.010952          4068.0     133.65...      \n",
       "1        4.0        0.131420        0.010952          3991.0     131.12...      \n",
       "2        4.0        0.131420        0.010952          3069.0     100.83...      \n",
       "3        3.0        0.098565        0.008214          3898.0     128.06...      \n",
       "4        4.0        0.131420        0.010952          3898.0     128.06...      \n",
       "\n",
       "   host_since_y  first_review_d  first_review_m  first_review_y  \\\n",
       "0  11.137806        3880.0       127.47...       10.623079        \n",
       "1  10.926987        3807.0       125.07...       10.423212        \n",
       "2   8.402637        3918.0       128.72...       10.727120        \n",
       "3  10.672362        2685.0       88.215364        7.351280        \n",
       "4  10.672362        3800.0       124.84...       10.404047        \n",
       "\n",
       "   last_review_d  ...  calculated_host_listings_count_private_rooms  \\\n",
       "0       19.0      ...          0                                      \n",
       "1     1109.0      ...          0                                      \n",
       "2      378.0      ...          0                                      \n",
       "3      349.0      ...          0                                      \n",
       "4       17.0      ...          0                                      \n",
       "\n",
       "   calculated_host_listings_count_shared_rooms  host_response_time  \\\n",
       "0          0                                    within...            \n",
       "1          0                                    within...            \n",
       "2          0                                    within...            \n",
       "3          0                                          NaN            \n",
       "4          0                                    within...            \n",
       "\n",
       "   host_is_superhost  host_has_profile_pic  host_identity_verified  \\\n",
       "0          t                  t                     t                \n",
       "1          f                  t                     t                \n",
       "2          f                  t                     f                \n",
       "3          t                  t                     t                \n",
       "4          t                  t                     t                \n",
       "\n",
       "   has_availability  instant_bookable  picture_url_tipo  room_type  \n",
       "0          t                 t               jpg         Entire...  \n",
       "1          t                 f               jpg         Entire...  \n",
       "2          t                 f               jpg         Entire...  \n",
       "3          t                 f               jpg         Entire...  \n",
       "4          t                 f               jpg         Entire...  \n",
       "\n",
       "[5 rows x 70 columns]"
      ]
     },
     "execution_count": 60,
     "metadata": {},
     "output_type": "execute_result"
    }
   ],
   "source": [
    "pd.set_option(\"max_colwidth\",10)\n",
    "pd.set_option(\"max_rows\",None)\n",
    "df2.head()"
   ]
  },
  {
   "cell_type": "code",
   "execution_count": 61,
   "metadata": {},
   "outputs": [
    {
     "name": "stdout",
     "output_type": "stream",
     "text": [
      "<class 'pandas.core.frame.DataFrame'>\n",
      "RangeIndex: 26615 entries, 0 to 26614\n",
      "Data columns (total 70 columns):\n",
      " #   Column                                        Non-Null Count  Dtype  \n",
      "---  ------                                        --------------  -----  \n",
      " 0   last_scraped_d                                26615 non-null  float64\n",
      " 1   last_scraped_m                                26615 non-null  float64\n",
      " 2   last_scraped_y                                26615 non-null  float64\n",
      " 3   host_since_d                                  26591 non-null  float64\n",
      " 4   host_since_m                                  26591 non-null  float64\n",
      " 5   host_since_y                                  26591 non-null  float64\n",
      " 6   first_review_d                                16657 non-null  float64\n",
      " 7   first_review_m                                16657 non-null  float64\n",
      " 8   first_review_y                                16657 non-null  float64\n",
      " 9   last_review_d                                 16657 non-null  float64\n",
      " 10  last_review_m                                 16657 non-null  float64\n",
      " 11  last_review_y                                 16657 non-null  float64\n",
      " 12  host_listings_count                           26591 non-null  float64\n",
      " 13  host_total_listings_count                     26591 non-null  float64\n",
      " 14  latitude                                      26615 non-null  float64\n",
      " 15  longitude                                     26615 non-null  float64\n",
      " 16  bathrooms_text_vol                            26543 non-null  float64\n",
      " 17  bedrooms                                      24869 non-null  float64\n",
      " 18  minimum_minimum_nights                        26531 non-null  float64\n",
      " 19  maximum_minimum_nights                        26531 non-null  float64\n",
      " 20  minimum_maximum_nights                        26531 non-null  float64\n",
      " 21  maximum_maximum_nights                        26531 non-null  float64\n",
      " 22  minimum_nights_avg_ntm                        26531 non-null  float64\n",
      " 23  maximum_nights_avg_ntm                        26531 non-null  float64\n",
      " 24  review_scores_rating                          16118 non-null  float64\n",
      " 25  review_scores_accuracy                        16104 non-null  float64\n",
      " 26  review_scores_cleanliness                     16107 non-null  float64\n",
      " 27  review_scores_checkin                         16106 non-null  float64\n",
      " 28  review_scores_communication                   16110 non-null  float64\n",
      " 29  review_scores_location                        16106 non-null  float64\n",
      " 30  review_scores_value                           16108 non-null  float64\n",
      " 31  reviews_per_month                             16657 non-null  float64\n",
      " 32  host_response_rate_                           18599 non-null  float64\n",
      " 33  host_acceptance_rate_                         17074 non-null  float64\n",
      " 34  price_                                        26615 non-null  float64\n",
      " 35  host_location_brazil                          26615 non-null  int64  \n",
      " 36  host_thumbnail_url_o                          26615 non-null  int64  \n",
      " 37  host_verifications_phone                      26615 non-null  int64  \n",
      " 38  host_verifications_email                      26615 non-null  int64  \n",
      " 39  host_verifications_government_id              26615 non-null  int64  \n",
      " 40  host_verifications_jumio                      26615 non-null  int64  \n",
      " 41  host_verifications_reviews                    26615 non-null  int64  \n",
      " 42  host_verifications_offline_government_id      26615 non-null  int64  \n",
      " 43  host_verifications_selfie                     26615 non-null  int64  \n",
      " 44  host_verifications_identity_manual            26615 non-null  int64  \n",
      " 45  host_verifications_facebook                   26615 non-null  int64  \n",
      " 46  host_verifications_work_email                 26615 non-null  int64  \n",
      " 47  host_verifications_google                     26615 non-null  int64  \n",
      " 48  accommodates                                  26615 non-null  int64  \n",
      " 49  minimum_nights                                26615 non-null  int64  \n",
      " 50  maximum_nights                                26615 non-null  int64  \n",
      " 51  availability_30                               26615 non-null  int64  \n",
      " 52  availability_60                               26615 non-null  int64  \n",
      " 53  availability_90                               26615 non-null  int64  \n",
      " 54  availability_365                              26615 non-null  int64  \n",
      " 55  number_of_reviews                             26615 non-null  int64  \n",
      " 56  number_of_reviews_ltm                         26615 non-null  int64  \n",
      " 57  number_of_reviews_l30d                        26615 non-null  int64  \n",
      " 58  calculated_host_listings_count                26615 non-null  int64  \n",
      " 59  calculated_host_listings_count_entire_homes   26615 non-null  int64  \n",
      " 60  calculated_host_listings_count_private_rooms  26615 non-null  int64  \n",
      " 61  calculated_host_listings_count_shared_rooms   26615 non-null  int64  \n",
      " 62  host_response_time                            18599 non-null  object \n",
      " 63  host_is_superhost                             26591 non-null  object \n",
      " 64  host_has_profile_pic                          26591 non-null  object \n",
      " 65  host_identity_verified                        26591 non-null  object \n",
      " 66  has_availability                              26615 non-null  object \n",
      " 67  instant_bookable                              26615 non-null  object \n",
      " 68  picture_url_tipo                              26612 non-null  object \n",
      " 69  room_type                                     26615 non-null  object \n",
      "dtypes: float64(35), int64(27), object(8)\n",
      "memory usage: 14.2+ MB\n"
     ]
    }
   ],
   "source": [
    "df2.info()"
   ]
  },
  {
   "cell_type": "markdown",
   "metadata": {},
   "source": [
    "#### Tratando missing values nas variáveis float\n",
    "- Vou substituir pela média da coluna, em variávis quantitativas\n",
    "- Vou substituir pelo valor mais frequênte da coluna, em variávis qualitativas"
   ]
  },
  {
   "cell_type": "code",
   "execution_count": 62,
   "metadata": {},
   "outputs": [
    {
     "data": {
      "text/plain": [
       "last_scraped_d                                      0\n",
       "last_scraped_m                                      0\n",
       "last_scraped_y                                      0\n",
       "host_since_d                                       24\n",
       "host_since_m                                       24\n",
       "host_since_y                                       24\n",
       "first_review_d                                   9958\n",
       "first_review_m                                   9958\n",
       "first_review_y                                   9958\n",
       "last_review_d                                    9958\n",
       "last_review_m                                    9958\n",
       "last_review_y                                    9958\n",
       "host_listings_count                                24\n",
       "host_total_listings_count                          24\n",
       "latitude                                            0\n",
       "longitude                                           0\n",
       "bathrooms_text_vol                                 72\n",
       "bedrooms                                         1746\n",
       "minimum_minimum_nights                             84\n",
       "maximum_minimum_nights                             84\n",
       "minimum_maximum_nights                             84\n",
       "maximum_maximum_nights                             84\n",
       "minimum_nights_avg_ntm                             84\n",
       "maximum_nights_avg_ntm                             84\n",
       "review_scores_rating                            10497\n",
       "review_scores_accuracy                          10511\n",
       "review_scores_cleanliness                       10508\n",
       "review_scores_checkin                           10509\n",
       "review_scores_communication                     10505\n",
       "review_scores_location                          10509\n",
       "review_scores_value                             10507\n",
       "reviews_per_month                                9958\n",
       "host_response_rate_                              8016\n",
       "host_acceptance_rate_                            9541\n",
       "price_                                              0\n",
       "host_location_brazil                                0\n",
       "host_thumbnail_url_o                                0\n",
       "host_verifications_phone                            0\n",
       "host_verifications_email                            0\n",
       "host_verifications_government_id                    0\n",
       "host_verifications_jumio                            0\n",
       "host_verifications_reviews                          0\n",
       "host_verifications_offline_government_id            0\n",
       "host_verifications_selfie                           0\n",
       "host_verifications_identity_manual                  0\n",
       "host_verifications_facebook                         0\n",
       "host_verifications_work_email                       0\n",
       "host_verifications_google                           0\n",
       "accommodates                                        0\n",
       "minimum_nights                                      0\n",
       "maximum_nights                                      0\n",
       "availability_30                                     0\n",
       "availability_60                                     0\n",
       "availability_90                                     0\n",
       "availability_365                                    0\n",
       "number_of_reviews                                   0\n",
       "number_of_reviews_ltm                               0\n",
       "number_of_reviews_l30d                              0\n",
       "calculated_host_listings_count                      0\n",
       "calculated_host_listings_count_entire_homes         0\n",
       "calculated_host_listings_count_private_rooms        0\n",
       "calculated_host_listings_count_shared_rooms         0\n",
       "host_response_time                               8016\n",
       "host_is_superhost                                  24\n",
       "host_has_profile_pic                               24\n",
       "host_identity_verified                             24\n",
       "has_availability                                    0\n",
       "instant_bookable                                    0\n",
       "picture_url_tipo                                    3\n",
       "room_type                                           0\n",
       "dtype: int64"
      ]
     },
     "execution_count": 62,
     "metadata": {},
     "output_type": "execute_result"
    }
   ],
   "source": [
    "df2.isnull().sum()"
   ]
  },
  {
   "cell_type": "code",
   "execution_count": 63,
   "metadata": {
    "scrolled": true
   },
   "outputs": [],
   "source": [
    "imputer = SimpleImputer(missing_values=np.nan, strategy='mean')\n",
    "imputer = imputer.fit(df2.iloc[:, 0:35])\n",
    "df2.iloc[:, 0:35] = imputer.transform(df2.iloc[:, 0:35])"
   ]
  },
  {
   "cell_type": "code",
   "execution_count": 64,
   "metadata": {
    "scrolled": true
   },
   "outputs": [
    {
     "data": {
      "text/plain": [
       "last_scraped_d                                     0\n",
       "last_scraped_m                                     0\n",
       "last_scraped_y                                     0\n",
       "host_since_d                                       0\n",
       "host_since_m                                       0\n",
       "host_since_y                                       0\n",
       "first_review_d                                     0\n",
       "first_review_m                                     0\n",
       "first_review_y                                     0\n",
       "last_review_d                                      0\n",
       "last_review_m                                      0\n",
       "last_review_y                                      0\n",
       "host_listings_count                                0\n",
       "host_total_listings_count                          0\n",
       "latitude                                           0\n",
       "longitude                                          0\n",
       "bathrooms_text_vol                                 0\n",
       "bedrooms                                           0\n",
       "minimum_minimum_nights                             0\n",
       "maximum_minimum_nights                             0\n",
       "minimum_maximum_nights                             0\n",
       "maximum_maximum_nights                             0\n",
       "minimum_nights_avg_ntm                             0\n",
       "maximum_nights_avg_ntm                             0\n",
       "review_scores_rating                               0\n",
       "review_scores_accuracy                             0\n",
       "review_scores_cleanliness                          0\n",
       "review_scores_checkin                              0\n",
       "review_scores_communication                        0\n",
       "review_scores_location                             0\n",
       "review_scores_value                                0\n",
       "reviews_per_month                                  0\n",
       "host_response_rate_                                0\n",
       "host_acceptance_rate_                              0\n",
       "price_                                             0\n",
       "host_location_brazil                               0\n",
       "host_thumbnail_url_o                               0\n",
       "host_verifications_phone                           0\n",
       "host_verifications_email                           0\n",
       "host_verifications_government_id                   0\n",
       "host_verifications_jumio                           0\n",
       "host_verifications_reviews                         0\n",
       "host_verifications_offline_government_id           0\n",
       "host_verifications_selfie                          0\n",
       "host_verifications_identity_manual                 0\n",
       "host_verifications_facebook                        0\n",
       "host_verifications_work_email                      0\n",
       "host_verifications_google                          0\n",
       "accommodates                                       0\n",
       "minimum_nights                                     0\n",
       "maximum_nights                                     0\n",
       "availability_30                                    0\n",
       "availability_60                                    0\n",
       "availability_90                                    0\n",
       "availability_365                                   0\n",
       "number_of_reviews                                  0\n",
       "number_of_reviews_ltm                              0\n",
       "number_of_reviews_l30d                             0\n",
       "calculated_host_listings_count                     0\n",
       "calculated_host_listings_count_entire_homes        0\n",
       "calculated_host_listings_count_private_rooms       0\n",
       "calculated_host_listings_count_shared_rooms        0\n",
       "host_response_time                              8016\n",
       "host_is_superhost                                 24\n",
       "host_has_profile_pic                              24\n",
       "host_identity_verified                            24\n",
       "has_availability                                   0\n",
       "instant_bookable                                   0\n",
       "picture_url_tipo                                   3\n",
       "room_type                                          0\n",
       "dtype: int64"
      ]
     },
     "execution_count": 64,
     "metadata": {},
     "output_type": "execute_result"
    }
   ],
   "source": [
    "df2.isnull().sum()"
   ]
  },
  {
   "cell_type": "code",
   "execution_count": 65,
   "metadata": {},
   "outputs": [],
   "source": [
    "df2.iloc[:, 62:70] = df2.iloc[:, 62:70].astype(\"category\")"
   ]
  },
  {
   "cell_type": "code",
   "execution_count": 66,
   "metadata": {},
   "outputs": [],
   "source": [
    "imputer = SimpleImputer(missing_values=np.nan, strategy='most_frequent')\n",
    "imputer = imputer.fit(df2.iloc[:, 62:70])\n",
    "df2.iloc[:, 62:70] = imputer.transform(df2.iloc[:, 62:70])"
   ]
  },
  {
   "cell_type": "code",
   "execution_count": 67,
   "metadata": {},
   "outputs": [
    {
     "data": {
      "text/plain": [
       "last_scraped_d                                  0\n",
       "last_scraped_m                                  0\n",
       "last_scraped_y                                  0\n",
       "host_since_d                                    0\n",
       "host_since_m                                    0\n",
       "host_since_y                                    0\n",
       "first_review_d                                  0\n",
       "first_review_m                                  0\n",
       "first_review_y                                  0\n",
       "last_review_d                                   0\n",
       "last_review_m                                   0\n",
       "last_review_y                                   0\n",
       "host_listings_count                             0\n",
       "host_total_listings_count                       0\n",
       "latitude                                        0\n",
       "longitude                                       0\n",
       "bathrooms_text_vol                              0\n",
       "bedrooms                                        0\n",
       "minimum_minimum_nights                          0\n",
       "maximum_minimum_nights                          0\n",
       "minimum_maximum_nights                          0\n",
       "maximum_maximum_nights                          0\n",
       "minimum_nights_avg_ntm                          0\n",
       "maximum_nights_avg_ntm                          0\n",
       "review_scores_rating                            0\n",
       "review_scores_accuracy                          0\n",
       "review_scores_cleanliness                       0\n",
       "review_scores_checkin                           0\n",
       "review_scores_communication                     0\n",
       "review_scores_location                          0\n",
       "review_scores_value                             0\n",
       "reviews_per_month                               0\n",
       "host_response_rate_                             0\n",
       "host_acceptance_rate_                           0\n",
       "price_                                          0\n",
       "host_location_brazil                            0\n",
       "host_thumbnail_url_o                            0\n",
       "host_verifications_phone                        0\n",
       "host_verifications_email                        0\n",
       "host_verifications_government_id                0\n",
       "host_verifications_jumio                        0\n",
       "host_verifications_reviews                      0\n",
       "host_verifications_offline_government_id        0\n",
       "host_verifications_selfie                       0\n",
       "host_verifications_identity_manual              0\n",
       "host_verifications_facebook                     0\n",
       "host_verifications_work_email                   0\n",
       "host_verifications_google                       0\n",
       "accommodates                                    0\n",
       "minimum_nights                                  0\n",
       "maximum_nights                                  0\n",
       "availability_30                                 0\n",
       "availability_60                                 0\n",
       "availability_90                                 0\n",
       "availability_365                                0\n",
       "number_of_reviews                               0\n",
       "number_of_reviews_ltm                           0\n",
       "number_of_reviews_l30d                          0\n",
       "calculated_host_listings_count                  0\n",
       "calculated_host_listings_count_entire_homes     0\n",
       "calculated_host_listings_count_private_rooms    0\n",
       "calculated_host_listings_count_shared_rooms     0\n",
       "host_response_time                              0\n",
       "host_is_superhost                               0\n",
       "host_has_profile_pic                            0\n",
       "host_identity_verified                          0\n",
       "has_availability                                0\n",
       "instant_bookable                                0\n",
       "picture_url_tipo                                0\n",
       "room_type                                       0\n",
       "dtype: int64"
      ]
     },
     "execution_count": 67,
     "metadata": {},
     "output_type": "execute_result"
    }
   ],
   "source": [
    "df2.isnull().sum()"
   ]
  },
  {
   "cell_type": "markdown",
   "metadata": {},
   "source": [
    "#### Categorizando as variáveis com números\n",
    "- Utilizando o label encoder"
   ]
  },
  {
   "cell_type": "code",
   "execution_count": 68,
   "metadata": {},
   "outputs": [],
   "source": [
    "host_response_time_l = df2[\"host_response_time\"].values\n",
    "host_is_superhost_l = df2[\"host_is_superhost\"].values\n",
    "host_has_profile_pic_l = df2[\"host_has_profile_pic\"].values\n",
    "host_identity_verified_l = df2[\"host_identity_verified\"].values\n",
    "has_availability_l = df2[\"has_availability\"].values\n",
    "instant_bookable_l = df2[\"instant_bookable\"].values\n",
    "picture_url_tipo_l = df2[\"picture_url_tipo\"].values\n",
    "room_type_l = df2[\"room_type\"].values"
   ]
  },
  {
   "cell_type": "code",
   "execution_count": 69,
   "metadata": {},
   "outputs": [],
   "source": [
    "labelencoder_df2 = LabelEncoder()\n",
    "host_response_time_l = pd.DataFrame({\"host_response_time\":labelencoder_df2.fit_transform(host_response_time_l)})\n",
    "host_is_superhost_l = pd.DataFrame({\"host_is_superhost\":labelencoder_df2.fit_transform(host_is_superhost_l)})\n",
    "host_has_profile_pic_l = pd.DataFrame({\"host_has_profile_pic\": labelencoder_df2.fit_transform(host_has_profile_pic_l)})\n",
    "host_identity_verified_l = pd.DataFrame({\"host_identity_verified\":labelencoder_df2.fit_transform(host_identity_verified_l)})\n",
    "has_availability_l = pd.DataFrame({\"has_availability\":labelencoder_df2.fit_transform(has_availability_l)})\n",
    "instant_bookable_l = pd.DataFrame({\"instant_bookable\":labelencoder_df2.fit_transform(instant_bookable_l)})\n",
    "picture_url_tipo_l = pd.DataFrame({\"picture_url_tipo\":labelencoder_df2.fit_transform(picture_url_tipo_l)})\n",
    "room_type_l = pd.DataFrame({\"room_type\":labelencoder_df2.fit_transform(room_type_l)})"
   ]
  },
  {
   "cell_type": "code",
   "execution_count": 70,
   "metadata": {
    "scrolled": true
   },
   "outputs": [],
   "source": [
    "df2[\"host_response_time\"] = host_response_time_l[\"host_response_time\"]\n",
    "df2[\"host_is_superhost\"] = host_is_superhost_l[\"host_is_superhost\"]\n",
    "df2[\"host_has_profile_pic\"] = host_has_profile_pic_l[\"host_has_profile_pic\"]\n",
    "df2[\"host_identity_verified\"] = host_identity_verified_l[\"host_identity_verified\"]\n",
    "df2[\"has_availability\"] = has_availability_l[\"has_availability\"]\n",
    "df2[\"instant_bookable\"] = instant_bookable_l[\"instant_bookable\"]\n",
    "df2[\"picture_url_tipo\"] = picture_url_tipo_l[\"picture_url_tipo\"]\n",
    "df2[\"room_type\"] = room_type_l[\"room_type\"]"
   ]
  },
  {
   "cell_type": "code",
   "execution_count": 71,
   "metadata": {
    "scrolled": true
   },
   "outputs": [
    {
     "data": {
      "text/html": [
       "<div>\n",
       "<style scoped>\n",
       "    .dataframe tbody tr th:only-of-type {\n",
       "        vertical-align: middle;\n",
       "    }\n",
       "\n",
       "    .dataframe tbody tr th {\n",
       "        vertical-align: top;\n",
       "    }\n",
       "\n",
       "    .dataframe thead th {\n",
       "        text-align: right;\n",
       "    }\n",
       "</style>\n",
       "<table border=\"1\" class=\"dataframe\">\n",
       "  <thead>\n",
       "    <tr style=\"text-align: right;\">\n",
       "      <th></th>\n",
       "      <th>last_scraped_d</th>\n",
       "      <th>last_scraped_m</th>\n",
       "      <th>last_scraped_y</th>\n",
       "      <th>host_since_d</th>\n",
       "      <th>host_since_m</th>\n",
       "      <th>host_since_y</th>\n",
       "      <th>first_review_d</th>\n",
       "      <th>first_review_m</th>\n",
       "      <th>first_review_y</th>\n",
       "      <th>last_review_d</th>\n",
       "      <th>...</th>\n",
       "      <th>calculated_host_listings_count_private_rooms</th>\n",
       "      <th>calculated_host_listings_count_shared_rooms</th>\n",
       "      <th>host_response_time</th>\n",
       "      <th>host_is_superhost</th>\n",
       "      <th>host_has_profile_pic</th>\n",
       "      <th>host_identity_verified</th>\n",
       "      <th>has_availability</th>\n",
       "      <th>instant_bookable</th>\n",
       "      <th>picture_url_tipo</th>\n",
       "      <th>room_type</th>\n",
       "    </tr>\n",
       "  </thead>\n",
       "  <tbody>\n",
       "    <tr>\n",
       "      <th>0</th>\n",
       "      <td>4.0</td>\n",
       "      <td>0.131420</td>\n",
       "      <td>0.010952</td>\n",
       "      <td>4068.0</td>\n",
       "      <td>133.65...</td>\n",
       "      <td>11.137806</td>\n",
       "      <td>3880.0</td>\n",
       "      <td>127.47...</td>\n",
       "      <td>10.623079</td>\n",
       "      <td>19.0</td>\n",
       "      <td>...</td>\n",
       "      <td>0</td>\n",
       "      <td>0</td>\n",
       "      <td>3</td>\n",
       "      <td>1</td>\n",
       "      <td>1</td>\n",
       "      <td>1</td>\n",
       "      <td>1</td>\n",
       "      <td>1</td>\n",
       "      <td>1</td>\n",
       "      <td>0</td>\n",
       "    </tr>\n",
       "    <tr>\n",
       "      <th>1</th>\n",
       "      <td>4.0</td>\n",
       "      <td>0.131420</td>\n",
       "      <td>0.010952</td>\n",
       "      <td>3991.0</td>\n",
       "      <td>131.12...</td>\n",
       "      <td>10.926987</td>\n",
       "      <td>3807.0</td>\n",
       "      <td>125.07...</td>\n",
       "      <td>10.423212</td>\n",
       "      <td>1109.0</td>\n",
       "      <td>...</td>\n",
       "      <td>0</td>\n",
       "      <td>0</td>\n",
       "      <td>2</td>\n",
       "      <td>0</td>\n",
       "      <td>1</td>\n",
       "      <td>1</td>\n",
       "      <td>1</td>\n",
       "      <td>0</td>\n",
       "      <td>1</td>\n",
       "      <td>0</td>\n",
       "    </tr>\n",
       "    <tr>\n",
       "      <th>2</th>\n",
       "      <td>4.0</td>\n",
       "      <td>0.131420</td>\n",
       "      <td>0.010952</td>\n",
       "      <td>3069.0</td>\n",
       "      <td>100.83...</td>\n",
       "      <td>8.402637</td>\n",
       "      <td>3918.0</td>\n",
       "      <td>128.72...</td>\n",
       "      <td>10.727120</td>\n",
       "      <td>378.0</td>\n",
       "      <td>...</td>\n",
       "      <td>0</td>\n",
       "      <td>0</td>\n",
       "      <td>2</td>\n",
       "      <td>0</td>\n",
       "      <td>1</td>\n",
       "      <td>0</td>\n",
       "      <td>1</td>\n",
       "      <td>0</td>\n",
       "      <td>1</td>\n",
       "      <td>0</td>\n",
       "    </tr>\n",
       "    <tr>\n",
       "      <th>3</th>\n",
       "      <td>3.0</td>\n",
       "      <td>0.098565</td>\n",
       "      <td>0.008214</td>\n",
       "      <td>3898.0</td>\n",
       "      <td>128.06...</td>\n",
       "      <td>10.672362</td>\n",
       "      <td>2685.0</td>\n",
       "      <td>88.215364</td>\n",
       "      <td>7.351280</td>\n",
       "      <td>349.0</td>\n",
       "      <td>...</td>\n",
       "      <td>0</td>\n",
       "      <td>0</td>\n",
       "      <td>3</td>\n",
       "      <td>1</td>\n",
       "      <td>1</td>\n",
       "      <td>1</td>\n",
       "      <td>1</td>\n",
       "      <td>0</td>\n",
       "      <td>1</td>\n",
       "      <td>0</td>\n",
       "    </tr>\n",
       "    <tr>\n",
       "      <th>4</th>\n",
       "      <td>4.0</td>\n",
       "      <td>0.131420</td>\n",
       "      <td>0.010952</td>\n",
       "      <td>3898.0</td>\n",
       "      <td>128.06...</td>\n",
       "      <td>10.672362</td>\n",
       "      <td>3800.0</td>\n",
       "      <td>124.84...</td>\n",
       "      <td>10.404047</td>\n",
       "      <td>17.0</td>\n",
       "      <td>...</td>\n",
       "      <td>0</td>\n",
       "      <td>0</td>\n",
       "      <td>3</td>\n",
       "      <td>1</td>\n",
       "      <td>1</td>\n",
       "      <td>1</td>\n",
       "      <td>1</td>\n",
       "      <td>0</td>\n",
       "      <td>1</td>\n",
       "      <td>0</td>\n",
       "    </tr>\n",
       "  </tbody>\n",
       "</table>\n",
       "<p>5 rows × 70 columns</p>\n",
       "</div>"
      ],
      "text/plain": [
       "   last_scraped_d  last_scraped_m  last_scraped_y  host_since_d  host_since_m  \\\n",
       "0        4.0        0.131420        0.010952          4068.0     133.65...      \n",
       "1        4.0        0.131420        0.010952          3991.0     131.12...      \n",
       "2        4.0        0.131420        0.010952          3069.0     100.83...      \n",
       "3        3.0        0.098565        0.008214          3898.0     128.06...      \n",
       "4        4.0        0.131420        0.010952          3898.0     128.06...      \n",
       "\n",
       "   host_since_y  first_review_d  first_review_m  first_review_y  \\\n",
       "0  11.137806        3880.0       127.47...       10.623079        \n",
       "1  10.926987        3807.0       125.07...       10.423212        \n",
       "2   8.402637        3918.0       128.72...       10.727120        \n",
       "3  10.672362        2685.0       88.215364        7.351280        \n",
       "4  10.672362        3800.0       124.84...       10.404047        \n",
       "\n",
       "   last_review_d  ...  calculated_host_listings_count_private_rooms  \\\n",
       "0       19.0      ...          0                                      \n",
       "1     1109.0      ...          0                                      \n",
       "2      378.0      ...          0                                      \n",
       "3      349.0      ...          0                                      \n",
       "4       17.0      ...          0                                      \n",
       "\n",
       "   calculated_host_listings_count_shared_rooms  host_response_time  \\\n",
       "0          0                                            3            \n",
       "1          0                                            2            \n",
       "2          0                                            2            \n",
       "3          0                                            3            \n",
       "4          0                                            3            \n",
       "\n",
       "   host_is_superhost  host_has_profile_pic  host_identity_verified  \\\n",
       "0          1                  1                     1                \n",
       "1          0                  1                     1                \n",
       "2          0                  1                     0                \n",
       "3          1                  1                     1                \n",
       "4          1                  1                     1                \n",
       "\n",
       "   has_availability  instant_bookable  picture_url_tipo  room_type  \n",
       "0          1                 1                 1                 0  \n",
       "1          1                 0                 1                 0  \n",
       "2          1                 0                 1                 0  \n",
       "3          1                 0                 1                 0  \n",
       "4          1                 0                 1                 0  \n",
       "\n",
       "[5 rows x 70 columns]"
      ]
     },
     "execution_count": 71,
     "metadata": {},
     "output_type": "execute_result"
    }
   ],
   "source": [
    "df2.head()"
   ]
  },
  {
   "cell_type": "code",
   "execution_count": 72,
   "metadata": {},
   "outputs": [],
   "source": [
    "df2 = df2[[\"accommodates\",\n",
    "\"availability_30\",\n",
    "\"availability_365\",\n",
    "\"availability_60\",\n",
    "\"availability_90\",\n",
    "\"bathrooms_text_vol\",\n",
    "\"bedrooms\",\n",
    "\"calculated_host_listings_count\",\n",
    "\"calculated_host_listings_count_entire_homes\",\n",
    "\"calculated_host_listings_count_private_rooms\",\n",
    "\"calculated_host_listings_count_shared_rooms\",\n",
    "\"first_review_d\",\n",
    "\"first_review_m\",\n",
    "\"first_review_y\",\n",
    "\"host_acceptance_rate_\",\n",
    "\"host_listings_count\",\n",
    "\"host_response_rate_\",\n",
    "\"host_response_time\",\n",
    "\"host_since_d\",\n",
    "\"host_since_m\",\n",
    "\"host_since_y\",\n",
    "\"host_total_listings_count\",\n",
    "\"last_review_d\",\n",
    "\"last_review_m\",\n",
    "\"last_review_y\",\n",
    "\"last_scraped_d\",\n",
    "\"last_scraped_m\",\n",
    "\"last_scraped_y\",\n",
    "\"latitude\",\n",
    "\"longitude\",\n",
    "\"maximum_maximum_nights\",\n",
    "\"maximum_minimum_nights\",\n",
    "\"maximum_nights\",\n",
    "\"maximum_nights_avg_ntm\",\n",
    "\"minimum_maximum_nights\",\n",
    "\"minimum_minimum_nights\",\n",
    "\"minimum_nights\",\n",
    "\"minimum_nights_avg_ntm\",\n",
    "\"number_of_reviews\",\n",
    "\"number_of_reviews_l30d\",\n",
    "\"number_of_reviews_ltm\",\n",
    "\"price_\",\n",
    "\"review_scores_accuracy\",\n",
    "\"review_scores_checkin\",\n",
    "\"review_scores_cleanliness\",\n",
    "\"review_scores_communication\",\n",
    "\"review_scores_location\",\n",
    "\"review_scores_rating\",\n",
    "\"review_scores_value\",\n",
    "\"reviews_per_month\",\n",
    "\"has_availability\",\n",
    "\"host_has_profile_pic\",\n",
    "\"host_identity_verified\",\n",
    "\"host_is_superhost\",\n",
    "\"host_location_brazil\",\n",
    "\"host_thumbnail_url_o\",\n",
    "\"host_verifications_email\",\n",
    "\"host_verifications_facebook\",\n",
    "\"host_verifications_google\",\n",
    "\"host_verifications_government_id\",\n",
    "\"host_verifications_identity_manual\",\n",
    "\"host_verifications_jumio\",\n",
    "\"host_verifications_offline_government_id\",\n",
    "\"host_verifications_phone\",\n",
    "\"host_verifications_reviews\",\n",
    "\"host_verifications_selfie\",\n",
    "\"host_verifications_work_email\",\n",
    "\"instant_bookable\",\n",
    "\"picture_url_tipo\",\n",
    "\"room_type\",]]"
   ]
  },
  {
   "cell_type": "code",
   "execution_count": 73,
   "metadata": {},
   "outputs": [
    {
     "data": {
      "text/plain": [
       "Index(['accommodates', 'availability_30', 'availability_365',\n",
       "       'availability_60', 'availability_90', 'bathrooms_text_vol', 'bedrooms',\n",
       "       'calculated_host_listings_count',\n",
       "       'calculated_host_listings_count_entire_homes',\n",
       "       'calculated_host_listings_count_private_rooms',\n",
       "       'calculated_host_listings_count_shared_rooms', 'first_review_d',\n",
       "       'first_review_m', 'first_review_y', 'host_acceptance_rate_',\n",
       "       'host_listings_count', 'host_response_rate_', 'host_response_time',\n",
       "       'host_since_d', 'host_since_m', 'host_since_y',\n",
       "       'host_total_listings_count', 'last_review_d', 'last_review_m',\n",
       "       'last_review_y', 'last_scraped_d', 'last_scraped_m', 'last_scraped_y',\n",
       "       'latitude', 'longitude', 'maximum_maximum_nights',\n",
       "       'maximum_minimum_nights', 'maximum_nights', 'maximum_nights_avg_ntm',\n",
       "       'minimum_maximum_nights', 'minimum_minimum_nights', 'minimum_nights',\n",
       "       'minimum_nights_avg_ntm', 'number_of_reviews', 'number_of_reviews_l30d',\n",
       "       'number_of_reviews_ltm', 'price_', 'review_scores_accuracy',\n",
       "       'review_scores_checkin', 'review_scores_cleanliness',\n",
       "       'review_scores_communication', 'review_scores_location',\n",
       "       'review_scores_rating', 'review_scores_value', 'reviews_per_month',\n",
       "       'has_availability', 'host_has_profile_pic', 'host_identity_verified',\n",
       "       'host_is_superhost', 'host_location_brazil', 'host_thumbnail_url_o',\n",
       "       'host_verifications_email', 'host_verifications_facebook',\n",
       "       'host_verifications_google', 'host_verifications_government_id',\n",
       "       'host_verifications_identity_manual', 'host_verifications_jumio',\n",
       "       'host_verifications_offline_government_id', 'host_verifications_phone',\n",
       "       'host_verifications_reviews', 'host_verifications_selfie',\n",
       "       'host_verifications_work_email', 'instant_bookable', 'picture_url_tipo',\n",
       "       'room_type'],\n",
       "      dtype='object')"
      ]
     },
     "execution_count": 73,
     "metadata": {},
     "output_type": "execute_result"
    }
   ],
   "source": [
    "df2.columns"
   ]
  },
  {
   "cell_type": "markdown",
   "metadata": {},
   "source": [
    "#### Separando as bases\n",
    "- X = Variáveis indendentes\n",
    "- y = Variável dependente"
   ]
  },
  {
   "cell_type": "code",
   "execution_count": 74,
   "metadata": {},
   "outputs": [],
   "source": [
    "X = df2.drop(['room_type'], axis=1)\n",
    "y = df2['room_type']"
   ]
  },
  {
   "cell_type": "code",
   "execution_count": 75,
   "metadata": {
    "scrolled": true
   },
   "outputs": [
    {
     "data": {
      "text/html": [
       "<div>\n",
       "<style scoped>\n",
       "    .dataframe tbody tr th:only-of-type {\n",
       "        vertical-align: middle;\n",
       "    }\n",
       "\n",
       "    .dataframe tbody tr th {\n",
       "        vertical-align: top;\n",
       "    }\n",
       "\n",
       "    .dataframe thead th {\n",
       "        text-align: right;\n",
       "    }\n",
       "</style>\n",
       "<table border=\"1\" class=\"dataframe\">\n",
       "  <thead>\n",
       "    <tr style=\"text-align: right;\">\n",
       "      <th></th>\n",
       "      <th>accommodates</th>\n",
       "      <th>availability_30</th>\n",
       "      <th>availability_365</th>\n",
       "      <th>availability_60</th>\n",
       "      <th>availability_90</th>\n",
       "      <th>bathrooms_text_vol</th>\n",
       "      <th>bedrooms</th>\n",
       "      <th>calculated_host_listings_count</th>\n",
       "      <th>calculated_host_listings_count_entire_homes</th>\n",
       "      <th>calculated_host_listings_count_private_rooms</th>\n",
       "      <th>...</th>\n",
       "      <th>host_verifications_government_id</th>\n",
       "      <th>host_verifications_identity_manual</th>\n",
       "      <th>host_verifications_jumio</th>\n",
       "      <th>host_verifications_offline_government_id</th>\n",
       "      <th>host_verifications_phone</th>\n",
       "      <th>host_verifications_reviews</th>\n",
       "      <th>host_verifications_selfie</th>\n",
       "      <th>host_verifications_work_email</th>\n",
       "      <th>instant_bookable</th>\n",
       "      <th>picture_url_tipo</th>\n",
       "    </tr>\n",
       "  </thead>\n",
       "  <tbody>\n",
       "    <tr>\n",
       "      <th>0</th>\n",
       "      <td>5</td>\n",
       "      <td>0</td>\n",
       "      <td>304</td>\n",
       "      <td>8</td>\n",
       "      <td>38</td>\n",
       "      <td>1.0</td>\n",
       "      <td>2.0</td>\n",
       "      <td>1</td>\n",
       "      <td>1</td>\n",
       "      <td>0</td>\n",
       "      <td>...</td>\n",
       "      <td>1</td>\n",
       "      <td>0</td>\n",
       "      <td>1</td>\n",
       "      <td>1</td>\n",
       "      <td>1</td>\n",
       "      <td>1</td>\n",
       "      <td>1</td>\n",
       "      <td>0</td>\n",
       "      <td>1</td>\n",
       "      <td>1</td>\n",
       "    </tr>\n",
       "    <tr>\n",
       "      <th>1</th>\n",
       "      <td>2</td>\n",
       "      <td>0</td>\n",
       "      <td>10</td>\n",
       "      <td>0</td>\n",
       "      <td>0</td>\n",
       "      <td>1.0</td>\n",
       "      <td>1.0</td>\n",
       "      <td>1</td>\n",
       "      <td>1</td>\n",
       "      <td>0</td>\n",
       "      <td>...</td>\n",
       "      <td>1</td>\n",
       "      <td>0</td>\n",
       "      <td>1</td>\n",
       "      <td>0</td>\n",
       "      <td>1</td>\n",
       "      <td>1</td>\n",
       "      <td>0</td>\n",
       "      <td>0</td>\n",
       "      <td>0</td>\n",
       "      <td>1</td>\n",
       "    </tr>\n",
       "    <tr>\n",
       "      <th>2</th>\n",
       "      <td>2</td>\n",
       "      <td>0</td>\n",
       "      <td>328</td>\n",
       "      <td>23</td>\n",
       "      <td>53</td>\n",
       "      <td>1.0</td>\n",
       "      <td>1.0</td>\n",
       "      <td>11</td>\n",
       "      <td>11</td>\n",
       "      <td>0</td>\n",
       "      <td>...</td>\n",
       "      <td>1</td>\n",
       "      <td>0</td>\n",
       "      <td>1</td>\n",
       "      <td>1</td>\n",
       "      <td>1</td>\n",
       "      <td>1</td>\n",
       "      <td>0</td>\n",
       "      <td>0</td>\n",
       "      <td>0</td>\n",
       "      <td>1</td>\n",
       "    </tr>\n",
       "    <tr>\n",
       "      <th>3</th>\n",
       "      <td>2</td>\n",
       "      <td>0</td>\n",
       "      <td>207</td>\n",
       "      <td>0</td>\n",
       "      <td>0</td>\n",
       "      <td>1.5</td>\n",
       "      <td>1.0</td>\n",
       "      <td>1</td>\n",
       "      <td>1</td>\n",
       "      <td>0</td>\n",
       "      <td>...</td>\n",
       "      <td>1</td>\n",
       "      <td>0</td>\n",
       "      <td>1</td>\n",
       "      <td>0</td>\n",
       "      <td>1</td>\n",
       "      <td>1</td>\n",
       "      <td>0</td>\n",
       "      <td>0</td>\n",
       "      <td>0</td>\n",
       "      <td>1</td>\n",
       "    </tr>\n",
       "    <tr>\n",
       "      <th>4</th>\n",
       "      <td>2</td>\n",
       "      <td>4</td>\n",
       "      <td>101</td>\n",
       "      <td>4</td>\n",
       "      <td>22</td>\n",
       "      <td>1.0</td>\n",
       "      <td>1.0</td>\n",
       "      <td>1</td>\n",
       "      <td>1</td>\n",
       "      <td>0</td>\n",
       "      <td>...</td>\n",
       "      <td>1</td>\n",
       "      <td>0</td>\n",
       "      <td>1</td>\n",
       "      <td>0</td>\n",
       "      <td>1</td>\n",
       "      <td>1</td>\n",
       "      <td>0</td>\n",
       "      <td>0</td>\n",
       "      <td>0</td>\n",
       "      <td>1</td>\n",
       "    </tr>\n",
       "  </tbody>\n",
       "</table>\n",
       "<p>5 rows × 69 columns</p>\n",
       "</div>"
      ],
      "text/plain": [
       "   accommodates  availability_30  availability_365  availability_60  \\\n",
       "0          5             0              304                 8         \n",
       "1          2             0               10                 0         \n",
       "2          2             0              328                23         \n",
       "3          2             0              207                 0         \n",
       "4          2             4              101                 4         \n",
       "\n",
       "   availability_90  bathrooms_text_vol  bedrooms  \\\n",
       "0         38              1.0                2.0   \n",
       "1          0              1.0                1.0   \n",
       "2         53              1.0                1.0   \n",
       "3          0              1.5                1.0   \n",
       "4         22              1.0                1.0   \n",
       "\n",
       "   calculated_host_listings_count  \\\n",
       "0          1                        \n",
       "1          1                        \n",
       "2         11                        \n",
       "3          1                        \n",
       "4          1                        \n",
       "\n",
       "   calculated_host_listings_count_entire_homes  \\\n",
       "0          1                                     \n",
       "1          1                                     \n",
       "2         11                                     \n",
       "3          1                                     \n",
       "4          1                                     \n",
       "\n",
       "   calculated_host_listings_count_private_rooms  ...  \\\n",
       "0          0                                     ...   \n",
       "1          0                                     ...   \n",
       "2          0                                     ...   \n",
       "3          0                                     ...   \n",
       "4          0                                     ...   \n",
       "\n",
       "   host_verifications_government_id  host_verifications_identity_manual  \\\n",
       "0          1                                 0                            \n",
       "1          1                                 0                            \n",
       "2          1                                 0                            \n",
       "3          1                                 0                            \n",
       "4          1                                 0                            \n",
       "\n",
       "   host_verifications_jumio  host_verifications_offline_government_id  \\\n",
       "0          1                         1                                  \n",
       "1          1                         0                                  \n",
       "2          1                         1                                  \n",
       "3          1                         0                                  \n",
       "4          1                         0                                  \n",
       "\n",
       "   host_verifications_phone  host_verifications_reviews  \\\n",
       "0          1                         1                    \n",
       "1          1                         1                    \n",
       "2          1                         1                    \n",
       "3          1                         1                    \n",
       "4          1                         1                    \n",
       "\n",
       "   host_verifications_selfie  host_verifications_work_email  instant_bookable  \\\n",
       "0          1                          0                              1          \n",
       "1          0                          0                              0          \n",
       "2          0                          0                              0          \n",
       "3          0                          0                              0          \n",
       "4          0                          0                              0          \n",
       "\n",
       "   picture_url_tipo  \n",
       "0          1         \n",
       "1          1         \n",
       "2          1         \n",
       "3          1         \n",
       "4          1         \n",
       "\n",
       "[5 rows x 69 columns]"
      ]
     },
     "execution_count": 75,
     "metadata": {},
     "output_type": "execute_result"
    }
   ],
   "source": [
    "X.head()"
   ]
  },
  {
   "cell_type": "code",
   "execution_count": 76,
   "metadata": {
    "scrolled": true
   },
   "outputs": [
    {
     "data": {
      "text/plain": [
       "0    0\n",
       "1    0\n",
       "2    0\n",
       "3    0\n",
       "4    0\n",
       "Name: room_type, dtype: int32"
      ]
     },
     "execution_count": 76,
     "metadata": {},
     "output_type": "execute_result"
    }
   ],
   "source": [
    "y.head()"
   ]
  },
  {
   "cell_type": "code",
   "execution_count": 77,
   "metadata": {},
   "outputs": [
    {
     "name": "stdout",
     "output_type": "stream",
     "text": [
      "<class 'pandas.core.frame.DataFrame'>\n",
      "RangeIndex: 26615 entries, 0 to 26614\n",
      "Data columns (total 69 columns):\n",
      " #   Column                                        Non-Null Count  Dtype  \n",
      "---  ------                                        --------------  -----  \n",
      " 0   accommodates                                  26615 non-null  int64  \n",
      " 1   availability_30                               26615 non-null  int64  \n",
      " 2   availability_365                              26615 non-null  int64  \n",
      " 3   availability_60                               26615 non-null  int64  \n",
      " 4   availability_90                               26615 non-null  int64  \n",
      " 5   bathrooms_text_vol                            26615 non-null  float64\n",
      " 6   bedrooms                                      26615 non-null  float64\n",
      " 7   calculated_host_listings_count                26615 non-null  int64  \n",
      " 8   calculated_host_listings_count_entire_homes   26615 non-null  int64  \n",
      " 9   calculated_host_listings_count_private_rooms  26615 non-null  int64  \n",
      " 10  calculated_host_listings_count_shared_rooms   26615 non-null  int64  \n",
      " 11  first_review_d                                26615 non-null  float64\n",
      " 12  first_review_m                                26615 non-null  float64\n",
      " 13  first_review_y                                26615 non-null  float64\n",
      " 14  host_acceptance_rate_                         26615 non-null  float64\n",
      " 15  host_listings_count                           26615 non-null  float64\n",
      " 16  host_response_rate_                           26615 non-null  float64\n",
      " 17  host_response_time                            26615 non-null  int32  \n",
      " 18  host_since_d                                  26615 non-null  float64\n",
      " 19  host_since_m                                  26615 non-null  float64\n",
      " 20  host_since_y                                  26615 non-null  float64\n",
      " 21  host_total_listings_count                     26615 non-null  float64\n",
      " 22  last_review_d                                 26615 non-null  float64\n",
      " 23  last_review_m                                 26615 non-null  float64\n",
      " 24  last_review_y                                 26615 non-null  float64\n",
      " 25  last_scraped_d                                26615 non-null  float64\n",
      " 26  last_scraped_m                                26615 non-null  float64\n",
      " 27  last_scraped_y                                26615 non-null  float64\n",
      " 28  latitude                                      26615 non-null  float64\n",
      " 29  longitude                                     26615 non-null  float64\n",
      " 30  maximum_maximum_nights                        26615 non-null  float64\n",
      " 31  maximum_minimum_nights                        26615 non-null  float64\n",
      " 32  maximum_nights                                26615 non-null  int64  \n",
      " 33  maximum_nights_avg_ntm                        26615 non-null  float64\n",
      " 34  minimum_maximum_nights                        26615 non-null  float64\n",
      " 35  minimum_minimum_nights                        26615 non-null  float64\n",
      " 36  minimum_nights                                26615 non-null  int64  \n",
      " 37  minimum_nights_avg_ntm                        26615 non-null  float64\n",
      " 38  number_of_reviews                             26615 non-null  int64  \n",
      " 39  number_of_reviews_l30d                        26615 non-null  int64  \n",
      " 40  number_of_reviews_ltm                         26615 non-null  int64  \n",
      " 41  price_                                        26615 non-null  float64\n",
      " 42  review_scores_accuracy                        26615 non-null  float64\n",
      " 43  review_scores_checkin                         26615 non-null  float64\n",
      " 44  review_scores_cleanliness                     26615 non-null  float64\n",
      " 45  review_scores_communication                   26615 non-null  float64\n",
      " 46  review_scores_location                        26615 non-null  float64\n",
      " 47  review_scores_rating                          26615 non-null  float64\n",
      " 48  review_scores_value                           26615 non-null  float64\n",
      " 49  reviews_per_month                             26615 non-null  float64\n",
      " 50  has_availability                              26615 non-null  int32  \n",
      " 51  host_has_profile_pic                          26615 non-null  int32  \n",
      " 52  host_identity_verified                        26615 non-null  int32  \n",
      " 53  host_is_superhost                             26615 non-null  int32  \n",
      " 54  host_location_brazil                          26615 non-null  int64  \n",
      " 55  host_thumbnail_url_o                          26615 non-null  int64  \n",
      " 56  host_verifications_email                      26615 non-null  int64  \n",
      " 57  host_verifications_facebook                   26615 non-null  int64  \n",
      " 58  host_verifications_google                     26615 non-null  int64  \n",
      " 59  host_verifications_government_id              26615 non-null  int64  \n",
      " 60  host_verifications_identity_manual            26615 non-null  int64  \n",
      " 61  host_verifications_jumio                      26615 non-null  int64  \n",
      " 62  host_verifications_offline_government_id      26615 non-null  int64  \n",
      " 63  host_verifications_phone                      26615 non-null  int64  \n",
      " 64  host_verifications_reviews                    26615 non-null  int64  \n",
      " 65  host_verifications_selfie                     26615 non-null  int64  \n",
      " 66  host_verifications_work_email                 26615 non-null  int64  \n",
      " 67  instant_bookable                              26615 non-null  int32  \n",
      " 68  picture_url_tipo                              26615 non-null  int32  \n",
      "dtypes: float64(35), int32(7), int64(27)\n",
      "memory usage: 13.3 MB\n"
     ]
    }
   ],
   "source": [
    "X.info()"
   ]
  },
  {
   "cell_type": "markdown",
   "metadata": {},
   "source": [
    "#### Selecionando as variáveis categóricas"
   ]
  },
  {
   "cell_type": "code",
   "execution_count": 78,
   "metadata": {},
   "outputs": [],
   "source": [
    "base = X[[\"has_availability\",\n",
    "\"host_has_profile_pic\",\n",
    "\"host_identity_verified\",\n",
    "\"host_is_superhost\",\n",
    "\"host_location_brazil\",\n",
    "\"host_thumbnail_url_o\",\n",
    "\"host_verifications_email\",\n",
    "\"host_verifications_facebook\",\n",
    "\"host_verifications_google\",\n",
    "\"host_verifications_government_id\",\n",
    "\"host_verifications_identity_manual\",\n",
    "\"host_verifications_jumio\",\n",
    "\"host_verifications_offline_government_id\",\n",
    "\"host_verifications_phone\",\n",
    "\"host_verifications_reviews\",\n",
    "\"host_verifications_selfie\",\n",
    "\"host_verifications_work_email\",\n",
    "\"instant_bookable\",\n",
    "\"picture_url_tipo\"]]\n",
    "\n",
    "test = SelectKBest(chi2, k=10)\n",
    "fit = test.fit(base, y)\n",
    "features = fit.transform(base)"
   ]
  },
  {
   "cell_type": "code",
   "execution_count": 79,
   "metadata": {},
   "outputs": [
    {
     "data": {
      "text/plain": [
       "array([ 2,  3,  9, 10, 11, 12, 14, 15, 16, 17], dtype=int64)"
      ]
     },
     "execution_count": 79,
     "metadata": {},
     "output_type": "execute_result"
    }
   ],
   "source": [
    "fit.get_support(indices=True)"
   ]
  },
  {
   "cell_type": "code",
   "execution_count": 80,
   "metadata": {},
   "outputs": [
    {
     "data": {
      "text/plain": [
       "Index(['host_identity_verified', 'host_is_superhost',\n",
       "       'host_verifications_government_id',\n",
       "       'host_verifications_identity_manual', 'host_verifications_jumio',\n",
       "       'host_verifications_offline_government_id',\n",
       "       'host_verifications_reviews', 'host_verifications_selfie',\n",
       "       'host_verifications_work_email', 'instant_bookable'],\n",
       "      dtype='object')"
      ]
     },
     "execution_count": 80,
     "metadata": {},
     "output_type": "execute_result"
    }
   ],
   "source": [
    "cols = fit.get_support(indices=True)\n",
    "base_ = base.iloc[:,cols]\n",
    "base_.columns"
   ]
  },
  {
   "cell_type": "markdown",
   "metadata": {},
   "source": [
    "#### Selecionando as variáveis quantitativas"
   ]
  },
  {
   "cell_type": "code",
   "execution_count": 81,
   "metadata": {
    "scrolled": true
   },
   "outputs": [
    {
     "data": {
      "text/plain": [
       "RandomForestClassifier(bootstrap=True, ccp_alpha=0.0, class_weight=None,\n",
       "                       criterion='gini', max_depth=None, max_features='auto',\n",
       "                       max_leaf_nodes=None, max_samples=None,\n",
       "                       min_impurity_decrease=0.0, min_impurity_split=None,\n",
       "                       min_samples_leaf=1, min_samples_split=2,\n",
       "                       min_weight_fraction_leaf=0.0, n_estimators=10,\n",
       "                       n_jobs=None, oob_score=False, random_state=None,\n",
       "                       verbose=0, warm_start=False)"
      ]
     },
     "execution_count": 81,
     "metadata": {},
     "output_type": "execute_result"
    }
   ],
   "source": [
    "base = X[[\"accommodates\",\n",
    "\"availability_30\",\n",
    "\"availability_365\",\n",
    "\"availability_60\",\n",
    "\"availability_90\",\n",
    "\"bathrooms_text_vol\",\n",
    "\"bedrooms\",\n",
    "\"calculated_host_listings_count\",\n",
    "\"calculated_host_listings_count_entire_homes\",\n",
    "\"calculated_host_listings_count_private_rooms\",\n",
    "\"calculated_host_listings_count_shared_rooms\",\n",
    "\"first_review_d\",\n",
    "\"first_review_m\",\n",
    "\"first_review_y\",\n",
    "\"host_acceptance_rate_\",\n",
    "\"host_listings_count\",\n",
    "\"host_response_rate_\",\n",
    "\"host_response_time\",\n",
    "\"host_since_d\",\n",
    "\"host_since_m\",\n",
    "\"host_since_y\",\n",
    "\"host_total_listings_count\",\n",
    "\"last_review_d\",\n",
    "\"last_review_m\",\n",
    "\"last_review_y\",\n",
    "\"last_scraped_d\",\n",
    "\"last_scraped_m\",\n",
    "\"last_scraped_y\",\n",
    "\"latitude\",\n",
    "\"longitude\",\n",
    "\"maximum_maximum_nights\",\n",
    "\"maximum_minimum_nights\",\n",
    "\"maximum_nights\",\n",
    "\"maximum_nights_avg_ntm\",\n",
    "\"minimum_maximum_nights\",\n",
    "\"minimum_minimum_nights\",\n",
    "\"minimum_nights\",\n",
    "\"minimum_nights_avg_ntm\",\n",
    "\"number_of_reviews\",\n",
    "\"number_of_reviews_l30d\",\n",
    "\"number_of_reviews_ltm\",\n",
    "\"price_\",\n",
    "\"review_scores_accuracy\",\n",
    "\"review_scores_checkin\",\n",
    "\"review_scores_cleanliness\",\n",
    "\"review_scores_communication\",\n",
    "\"review_scores_location\",\n",
    "\"review_scores_rating\",\n",
    "\"review_scores_value\",\n",
    "\"reviews_per_month\"]]\n",
    "\n",
    "model = RandomForestClassifier(n_estimators=10)\n",
    "model.fit(base, y)"
   ]
  },
  {
   "cell_type": "code",
   "execution_count": 82,
   "metadata": {},
   "outputs": [
    {
     "data": {
      "text/html": [
       "<div>\n",
       "<style scoped>\n",
       "    .dataframe tbody tr th:only-of-type {\n",
       "        vertical-align: middle;\n",
       "    }\n",
       "\n",
       "    .dataframe tbody tr th {\n",
       "        vertical-align: top;\n",
       "    }\n",
       "\n",
       "    .dataframe thead th {\n",
       "        text-align: right;\n",
       "    }\n",
       "</style>\n",
       "<table border=\"1\" class=\"dataframe\">\n",
       "  <thead>\n",
       "    <tr style=\"text-align: right;\">\n",
       "      <th></th>\n",
       "      <th>importance</th>\n",
       "    </tr>\n",
       "  </thead>\n",
       "  <tbody>\n",
       "    <tr>\n",
       "      <th>calculated_host_listings_count_private_rooms</th>\n",
       "      <td>0.258095</td>\n",
       "    </tr>\n",
       "    <tr>\n",
       "      <th>calculated_host_listings_count_entire_homes</th>\n",
       "      <td>0.238204</td>\n",
       "    </tr>\n",
       "    <tr>\n",
       "      <th>accommodates</th>\n",
       "      <td>0.091112</td>\n",
       "    </tr>\n",
       "    <tr>\n",
       "      <th>bedrooms</th>\n",
       "      <td>0.071146</td>\n",
       "    </tr>\n",
       "    <tr>\n",
       "      <th>calculated_host_listings_count_shared_rooms</th>\n",
       "      <td>0.049351</td>\n",
       "    </tr>\n",
       "    <tr>\n",
       "      <th>price_</th>\n",
       "      <td>0.037344</td>\n",
       "    </tr>\n",
       "    <tr>\n",
       "      <th>calculated_host_listings_count</th>\n",
       "      <td>0.021956</td>\n",
       "    </tr>\n",
       "    <tr>\n",
       "      <th>minimum_nights_avg_ntm</th>\n",
       "      <td>0.019421</td>\n",
       "    </tr>\n",
       "    <tr>\n",
       "      <th>maximum_minimum_nights</th>\n",
       "      <td>0.015439</td>\n",
       "    </tr>\n",
       "    <tr>\n",
       "      <th>latitude</th>\n",
       "      <td>0.014183</td>\n",
       "    </tr>\n",
       "    <tr>\n",
       "      <th>host_total_listings_count</th>\n",
       "      <td>0.012790</td>\n",
       "    </tr>\n",
       "    <tr>\n",
       "      <th>last_review_d</th>\n",
       "      <td>0.011087</td>\n",
       "    </tr>\n",
       "    <tr>\n",
       "      <th>last_review_y</th>\n",
       "      <td>0.010784</td>\n",
       "    </tr>\n",
       "    <tr>\n",
       "      <th>longitude</th>\n",
       "      <td>0.010588</td>\n",
       "    </tr>\n",
       "    <tr>\n",
       "      <th>host_listings_count</th>\n",
       "      <td>0.008441</td>\n",
       "    </tr>\n",
       "    <tr>\n",
       "      <th>minimum_minimum_nights</th>\n",
       "      <td>0.008364</td>\n",
       "    </tr>\n",
       "    <tr>\n",
       "      <th>last_review_m</th>\n",
       "      <td>0.007579</td>\n",
       "    </tr>\n",
       "    <tr>\n",
       "      <th>host_since_d</th>\n",
       "      <td>0.006606</td>\n",
       "    </tr>\n",
       "    <tr>\n",
       "      <th>availability_365</th>\n",
       "      <td>0.006291</td>\n",
       "    </tr>\n",
       "    <tr>\n",
       "      <th>host_since_y</th>\n",
       "      <td>0.006006</td>\n",
       "    </tr>\n",
       "    <tr>\n",
       "      <th>minimum_nights</th>\n",
       "      <td>0.005940</td>\n",
       "    </tr>\n",
       "    <tr>\n",
       "      <th>bathrooms_text_vol</th>\n",
       "      <td>0.005921</td>\n",
       "    </tr>\n",
       "    <tr>\n",
       "      <th>number_of_reviews_ltm</th>\n",
       "      <td>0.005171</td>\n",
       "    </tr>\n",
       "    <tr>\n",
       "      <th>availability_90</th>\n",
       "      <td>0.005153</td>\n",
       "    </tr>\n",
       "    <tr>\n",
       "      <th>host_since_m</th>\n",
       "      <td>0.005108</td>\n",
       "    </tr>\n",
       "    <tr>\n",
       "      <th>reviews_per_month</th>\n",
       "      <td>0.004884</td>\n",
       "    </tr>\n",
       "    <tr>\n",
       "      <th>availability_60</th>\n",
       "      <td>0.004787</td>\n",
       "    </tr>\n",
       "    <tr>\n",
       "      <th>last_scraped_y</th>\n",
       "      <td>0.004061</td>\n",
       "    </tr>\n",
       "    <tr>\n",
       "      <th>first_review_y</th>\n",
       "      <td>0.003770</td>\n",
       "    </tr>\n",
       "    <tr>\n",
       "      <th>maximum_nights</th>\n",
       "      <td>0.003650</td>\n",
       "    </tr>\n",
       "    <tr>\n",
       "      <th>host_acceptance_rate_</th>\n",
       "      <td>0.003509</td>\n",
       "    </tr>\n",
       "    <tr>\n",
       "      <th>number_of_reviews</th>\n",
       "      <td>0.003485</td>\n",
       "    </tr>\n",
       "    <tr>\n",
       "      <th>first_review_m</th>\n",
       "      <td>0.003482</td>\n",
       "    </tr>\n",
       "    <tr>\n",
       "      <th>availability_30</th>\n",
       "      <td>0.003452</td>\n",
       "    </tr>\n",
       "    <tr>\n",
       "      <th>last_scraped_d</th>\n",
       "      <td>0.003443</td>\n",
       "    </tr>\n",
       "    <tr>\n",
       "      <th>host_response_rate_</th>\n",
       "      <td>0.003248</td>\n",
       "    </tr>\n",
       "    <tr>\n",
       "      <th>first_review_d</th>\n",
       "      <td>0.003082</td>\n",
       "    </tr>\n",
       "    <tr>\n",
       "      <th>review_scores_rating</th>\n",
       "      <td>0.002807</td>\n",
       "    </tr>\n",
       "    <tr>\n",
       "      <th>maximum_nights_avg_ntm</th>\n",
       "      <td>0.002653</td>\n",
       "    </tr>\n",
       "    <tr>\n",
       "      <th>review_scores_value</th>\n",
       "      <td>0.002469</td>\n",
       "    </tr>\n",
       "    <tr>\n",
       "      <th>minimum_maximum_nights</th>\n",
       "      <td>0.002304</td>\n",
       "    </tr>\n",
       "    <tr>\n",
       "      <th>maximum_maximum_nights</th>\n",
       "      <td>0.002169</td>\n",
       "    </tr>\n",
       "    <tr>\n",
       "      <th>review_scores_location</th>\n",
       "      <td>0.001879</td>\n",
       "    </tr>\n",
       "    <tr>\n",
       "      <th>last_scraped_m</th>\n",
       "      <td>0.001796</td>\n",
       "    </tr>\n",
       "    <tr>\n",
       "      <th>host_response_time</th>\n",
       "      <td>0.001688</td>\n",
       "    </tr>\n",
       "    <tr>\n",
       "      <th>review_scores_cleanliness</th>\n",
       "      <td>0.001672</td>\n",
       "    </tr>\n",
       "    <tr>\n",
       "      <th>review_scores_accuracy</th>\n",
       "      <td>0.001273</td>\n",
       "    </tr>\n",
       "    <tr>\n",
       "      <th>review_scores_checkin</th>\n",
       "      <td>0.000967</td>\n",
       "    </tr>\n",
       "    <tr>\n",
       "      <th>review_scores_communication</th>\n",
       "      <td>0.000735</td>\n",
       "    </tr>\n",
       "    <tr>\n",
       "      <th>number_of_reviews_l30d</th>\n",
       "      <td>0.000652</td>\n",
       "    </tr>\n",
       "  </tbody>\n",
       "</table>\n",
       "</div>"
      ],
      "text/plain": [
       "            importance\n",
       "calcula...   0.258095 \n",
       "calcula...   0.238204 \n",
       "accommo...   0.091112 \n",
       "bedrooms     0.071146 \n",
       "calcula...   0.049351 \n",
       "price_       0.037344 \n",
       "calcula...   0.021956 \n",
       "minimum...   0.019421 \n",
       "maximum...   0.015439 \n",
       "latitude     0.014183 \n",
       "host_to...   0.012790 \n",
       "last_re...   0.011087 \n",
       "last_re...   0.010784 \n",
       "longitude    0.010588 \n",
       "host_li...   0.008441 \n",
       "minimum...   0.008364 \n",
       "last_re...   0.007579 \n",
       "host_si...   0.006606 \n",
       "availab...   0.006291 \n",
       "host_si...   0.006006 \n",
       "minimum...   0.005940 \n",
       "bathroo...   0.005921 \n",
       "number_...   0.005171 \n",
       "availab...   0.005153 \n",
       "host_si...   0.005108 \n",
       "reviews...   0.004884 \n",
       "availab...   0.004787 \n",
       "last_sc...   0.004061 \n",
       "first_r...   0.003770 \n",
       "maximum...   0.003650 \n",
       "host_ac...   0.003509 \n",
       "number_...   0.003485 \n",
       "first_r...   0.003482 \n",
       "availab...   0.003452 \n",
       "last_sc...   0.003443 \n",
       "host_re...   0.003248 \n",
       "first_r...   0.003082 \n",
       "review_...   0.002807 \n",
       "maximum...   0.002653 \n",
       "review_...   0.002469 \n",
       "minimum...   0.002304 \n",
       "maximum...   0.002169 \n",
       "review_...   0.001879 \n",
       "last_sc...   0.001796 \n",
       "host_re...   0.001688 \n",
       "review_...   0.001672 \n",
       "review_...   0.001273 \n",
       "review_...   0.000967 \n",
       "review_...   0.000735 \n",
       "number_...   0.000652 "
      ]
     },
     "execution_count": 82,
     "metadata": {},
     "output_type": "execute_result"
    }
   ],
   "source": [
    "feature_importances = pd.DataFrame(model.feature_importances_,\n",
    "                                   index = base.columns,\n",
    "                                   columns=['importance']).sort_values('importance', ascending=False)\n",
    "feature_importances"
   ]
  },
  {
   "cell_type": "code",
   "execution_count": 83,
   "metadata": {},
   "outputs": [
    {
     "data": {
      "text/html": [
       "<div>\n",
       "<style scoped>\n",
       "    .dataframe tbody tr th:only-of-type {\n",
       "        vertical-align: middle;\n",
       "    }\n",
       "\n",
       "    .dataframe tbody tr th {\n",
       "        vertical-align: top;\n",
       "    }\n",
       "\n",
       "    .dataframe thead th {\n",
       "        text-align: right;\n",
       "    }\n",
       "</style>\n",
       "<table border=\"1\" class=\"dataframe\">\n",
       "  <thead>\n",
       "    <tr style=\"text-align: right;\">\n",
       "      <th></th>\n",
       "      <th>importance</th>\n",
       "    </tr>\n",
       "  </thead>\n",
       "  <tbody>\n",
       "    <tr>\n",
       "      <th>calculated_host_listings_count_private_rooms</th>\n",
       "      <td>0.258095</td>\n",
       "    </tr>\n",
       "    <tr>\n",
       "      <th>calculated_host_listings_count_entire_homes</th>\n",
       "      <td>0.238204</td>\n",
       "    </tr>\n",
       "    <tr>\n",
       "      <th>accommodates</th>\n",
       "      <td>0.091112</td>\n",
       "    </tr>\n",
       "    <tr>\n",
       "      <th>bedrooms</th>\n",
       "      <td>0.071146</td>\n",
       "    </tr>\n",
       "    <tr>\n",
       "      <th>calculated_host_listings_count_shared_rooms</th>\n",
       "      <td>0.049351</td>\n",
       "    </tr>\n",
       "    <tr>\n",
       "      <th>price_</th>\n",
       "      <td>0.037344</td>\n",
       "    </tr>\n",
       "    <tr>\n",
       "      <th>calculated_host_listings_count</th>\n",
       "      <td>0.021956</td>\n",
       "    </tr>\n",
       "    <tr>\n",
       "      <th>minimum_nights_avg_ntm</th>\n",
       "      <td>0.019421</td>\n",
       "    </tr>\n",
       "    <tr>\n",
       "      <th>maximum_minimum_nights</th>\n",
       "      <td>0.015439</td>\n",
       "    </tr>\n",
       "    <tr>\n",
       "      <th>latitude</th>\n",
       "      <td>0.014183</td>\n",
       "    </tr>\n",
       "    <tr>\n",
       "      <th>host_total_listings_count</th>\n",
       "      <td>0.012790</td>\n",
       "    </tr>\n",
       "    <tr>\n",
       "      <th>last_review_d</th>\n",
       "      <td>0.011087</td>\n",
       "    </tr>\n",
       "    <tr>\n",
       "      <th>last_review_y</th>\n",
       "      <td>0.010784</td>\n",
       "    </tr>\n",
       "    <tr>\n",
       "      <th>longitude</th>\n",
       "      <td>0.010588</td>\n",
       "    </tr>\n",
       "  </tbody>\n",
       "</table>\n",
       "</div>"
      ],
      "text/plain": [
       "            importance\n",
       "calcula...   0.258095 \n",
       "calcula...   0.238204 \n",
       "accommo...   0.091112 \n",
       "bedrooms     0.071146 \n",
       "calcula...   0.049351 \n",
       "price_       0.037344 \n",
       "calcula...   0.021956 \n",
       "minimum...   0.019421 \n",
       "maximum...   0.015439 \n",
       "latitude     0.014183 \n",
       "host_to...   0.012790 \n",
       "last_re...   0.011087 \n",
       "last_re...   0.010784 \n",
       "longitude    0.010588 "
      ]
     },
     "execution_count": 83,
     "metadata": {},
     "output_type": "execute_result"
    }
   ],
   "source": [
    "feature_importances1 = feature_importances[feature_importances[\"importance\"] > 0.01]\n",
    "feature_importances1"
   ]
  },
  {
   "cell_type": "markdown",
   "metadata": {},
   "source": [
    "#### Ajustando a base X com variáveis escolhidas\n",
    "- Vou usar todas das categóricas, escolhidas pelo SelectKBest\n",
    "- Vou usar todas quantitativas, acima de 0,01 de importância (de acorod com o feature importances)"
   ]
  },
  {
   "cell_type": "code",
   "execution_count": 84,
   "metadata": {},
   "outputs": [],
   "source": [
    "X1 = X[['host_identity_verified', 'host_is_superhost',\n",
    "       'host_verifications_government_id',\n",
    "       'host_verifications_identity_manual', 'host_verifications_jumio',\n",
    "       'host_verifications_offline_government_id',\n",
    "       'host_verifications_reviews', 'host_verifications_selfie',\n",
    "       'host_verifications_work_email', 'instant_bookable',\n",
    "        \n",
    "        \"calculated_host_listings_count_private_rooms\",\n",
    "        \"calculated_host_listings_count_entire_homes\",\n",
    "        \"accommodates\",\n",
    "        \"bedrooms\",\n",
    "        \"calculated_host_listings_count_shared_rooms\",\n",
    "        \"price_\",\n",
    "        \"calculated_host_listings_count\",\n",
    "        \"minimum_minimum_nights\",\n",
    "        \"host_total_listings_count\",\n",
    "        \"latitude\",\n",
    "        \"minimum_nights\",\n",
    "        \"last_review_d\"]]"
   ]
  },
  {
   "cell_type": "code",
   "execution_count": 85,
   "metadata": {
    "scrolled": true
   },
   "outputs": [
    {
     "name": "stdout",
     "output_type": "stream",
     "text": [
      "<class 'pandas.core.frame.DataFrame'>\n",
      "RangeIndex: 26615 entries, 0 to 26614\n",
      "Data columns (total 22 columns):\n",
      " #   Column                                        Non-Null Count  Dtype  \n",
      "---  ------                                        --------------  -----  \n",
      " 0   host_identity_verified                        26615 non-null  int32  \n",
      " 1   host_is_superhost                             26615 non-null  int32  \n",
      " 2   host_verifications_government_id              26615 non-null  int64  \n",
      " 3   host_verifications_identity_manual            26615 non-null  int64  \n",
      " 4   host_verifications_jumio                      26615 non-null  int64  \n",
      " 5   host_verifications_offline_government_id      26615 non-null  int64  \n",
      " 6   host_verifications_reviews                    26615 non-null  int64  \n",
      " 7   host_verifications_selfie                     26615 non-null  int64  \n",
      " 8   host_verifications_work_email                 26615 non-null  int64  \n",
      " 9   instant_bookable                              26615 non-null  int32  \n",
      " 10  calculated_host_listings_count_private_rooms  26615 non-null  int64  \n",
      " 11  calculated_host_listings_count_entire_homes   26615 non-null  int64  \n",
      " 12  accommodates                                  26615 non-null  int64  \n",
      " 13  bedrooms                                      26615 non-null  float64\n",
      " 14  calculated_host_listings_count_shared_rooms   26615 non-null  int64  \n",
      " 15  price_                                        26615 non-null  float64\n",
      " 16  calculated_host_listings_count                26615 non-null  int64  \n",
      " 17  minimum_minimum_nights                        26615 non-null  float64\n",
      " 18  host_total_listings_count                     26615 non-null  float64\n",
      " 19  latitude                                      26615 non-null  float64\n",
      " 20  minimum_nights                                26615 non-null  int64  \n",
      " 21  last_review_d                                 26615 non-null  float64\n",
      "dtypes: float64(6), int32(3), int64(13)\n",
      "memory usage: 4.2 MB\n"
     ]
    }
   ],
   "source": [
    "X1.info()"
   ]
  },
  {
   "cell_type": "markdown",
   "metadata": {},
   "source": [
    "#### Criando variáveis binárias com as variáveis com mais de uma categoria\n",
    "- Utilizando o OneHotEncoder"
   ]
  },
  {
   "cell_type": "code",
   "execution_count": 91,
   "metadata": {},
   "outputs": [],
   "source": [
    "X1_ = X1.iloc[:,0:10].values\n",
    "\n",
    "onehotencoder = OneHotEncoder(sparse=False)\n",
    "X1_ = onehotencoder.fit_transform(X1_)"
   ]
  },
  {
   "cell_type": "code",
   "execution_count": 87,
   "metadata": {},
   "outputs": [],
   "source": [
    "X1_ = pd.DataFrame(X1_)\n",
    "X2 = pd.concat([X1_, X1.iloc[:,10:19]], axis=1)\n",
    "X2 = X2.values"
   ]
  },
  {
   "cell_type": "markdown",
   "metadata": {},
   "source": [
    "#### Normalizando os dados"
   ]
  },
  {
   "cell_type": "code",
   "execution_count": 88,
   "metadata": {},
   "outputs": [],
   "source": [
    "ss = StandardScaler()\n",
    "X3 = ss.fit_transform(X2)"
   ]
  },
  {
   "cell_type": "code",
   "execution_count": 89,
   "metadata": {},
   "outputs": [
    {
     "data": {
      "text/plain": [
       "array([[-0.76496388,  0.76496388, -2.20127152, ..., -0.24109808,\n",
       "         0.01798324, -0.07915475],\n",
       "       [-0.76496388,  0.76496388,  0.4542829 , ..., -0.24109808,\n",
       "        -0.08795952, -0.1006421 ],\n",
       "       [ 1.30725126, -1.30725126,  0.4542829 , ...,  0.03713222,\n",
       "         0.123926  ,  0.01753832],\n",
       "       ...,\n",
       "       [-0.76496388,  0.76496388,  0.4542829 , ..., -0.24109808,\n",
       "        -0.08795952, -0.1006421 ],\n",
       "       [-0.76496388,  0.76496388, -2.20127152, ..., -0.18545202,\n",
       "         0.01798324, -0.06841108],\n",
       "       [-0.76496388,  0.76496388,  0.4542829 , ...,  1.37263763,\n",
       "        -0.19390229,  0.55472206]])"
      ]
     },
     "execution_count": 89,
     "metadata": {},
     "output_type": "execute_result"
    }
   ],
   "source": [
    "X3"
   ]
  },
  {
   "cell_type": "markdown",
   "metadata": {},
   "source": [
    "#### Dividindo grupos de treino e teste"
   ]
  },
  {
   "cell_type": "code",
   "execution_count": 90,
   "metadata": {},
   "outputs": [],
   "source": [
    "X_train, X_test, y_train, y_test = train_test_split(X3, y, test_size = 0.3, random_state = 0)"
   ]
  },
  {
   "cell_type": "markdown",
   "metadata": {},
   "source": [
    "#### Aplicando modelo de SVM"
   ]
  },
  {
   "cell_type": "code",
   "execution_count": 175,
   "metadata": {},
   "outputs": [
    {
     "data": {
      "text/plain": [
       "SVC(C=1.0, break_ties=False, cache_size=200, class_weight=None, coef0=0.0,\n",
       "    decision_function_shape='ovr', degree=3, gamma='scale', kernel='linear',\n",
       "    max_iter=-1, probability=False, random_state=0, shrinking=True, tol=0.001,\n",
       "    verbose=False)"
      ]
     },
     "execution_count": 175,
     "metadata": {},
     "output_type": "execute_result"
    }
   ],
   "source": [
    "classifier = SVC(kernel = 'linear', random_state = 0)\n",
    "classifier.fit(X_train, y_train)"
   ]
  },
  {
   "cell_type": "code",
   "execution_count": 176,
   "metadata": {},
   "outputs": [],
   "source": [
    "y_pred = classifier.predict(X_test)"
   ]
  },
  {
   "cell_type": "code",
   "execution_count": 177,
   "metadata": {},
   "outputs": [],
   "source": [
    "def Accuracy(classifier,X3, y):\n",
    "    results = cross_val_predict(classifier, X3, y, cv = 10)\n",
    "    return accuracy_score(y, results)"
   ]
  },
  {
   "cell_type": "code",
   "execution_count": null,
   "metadata": {
    "scrolled": true
   },
   "outputs": [],
   "source": [
    "Accuracy(classifier, X3, y)"
   ]
  },
  {
   "cell_type": "code",
   "execution_count": null,
   "metadata": {
    "scrolled": true
   },
   "outputs": [],
   "source": [
    "results = cross_val_predict(classifier, X3, y, cv = 10)\n",
    "class_values = [0,1,2,3]\n",
    "print(classification_report(y, results, class_values))"
   ]
  },
  {
   "cell_type": "markdown",
   "metadata": {},
   "source": [
    "#### Aplicando modelo de Árvore de Decisão"
   ]
  },
  {
   "cell_type": "code",
   "execution_count": 135,
   "metadata": {
    "scrolled": true
   },
   "outputs": [
    {
     "data": {
      "text/plain": [
       "DecisionTreeClassifier(ccp_alpha=0.0, class_weight=None, criterion='entropy',\n",
       "                       max_depth=None, max_features=None, max_leaf_nodes=None,\n",
       "                       min_impurity_decrease=0.0, min_impurity_split=None,\n",
       "                       min_samples_leaf=1, min_samples_split=2,\n",
       "                       min_weight_fraction_leaf=0.0, presort='deprecated',\n",
       "                       random_state=0, splitter='best')"
      ]
     },
     "execution_count": 135,
     "metadata": {},
     "output_type": "execute_result"
    }
   ],
   "source": [
    "classifier2 = DecisionTreeClassifier(criterion = 'entropy', random_state = 0)\n",
    "classifier2.fit(X_train, y_train)"
   ]
  },
  {
   "cell_type": "code",
   "execution_count": 136,
   "metadata": {},
   "outputs": [],
   "source": [
    "y_pred2 = classifier2.predict(X_test)"
   ]
  },
  {
   "cell_type": "code",
   "execution_count": 137,
   "metadata": {},
   "outputs": [],
   "source": [
    "def Accuracy2(classifier2,X3, y):\n",
    "    results2 = cross_val_predict(classifier2, X3, y, cv = 10)\n",
    "    return accuracy_score(y, results2)"
   ]
  },
  {
   "cell_type": "code",
   "execution_count": 138,
   "metadata": {
    "scrolled": true
   },
   "outputs": [
    {
     "data": {
      "text/plain": [
       "0.9616006011647568"
      ]
     },
     "execution_count": 138,
     "metadata": {},
     "output_type": "execute_result"
    }
   ],
   "source": [
    "Accuracy2(classifier2, X3, y)"
   ]
  },
  {
   "cell_type": "code",
   "execution_count": 139,
   "metadata": {
    "scrolled": true
   },
   "outputs": [
    {
     "name": "stdout",
     "output_type": "stream",
     "text": [
      "              precision    recall  f1-score   support\n",
      "\n",
      "           0       0.98      0.98      0.98     19285\n",
      "           1       0.57      0.61      0.59        99\n",
      "           2       0.94      0.92      0.93      6619\n",
      "           3       0.84      0.85      0.85       612\n",
      "\n",
      "    accuracy                           0.96     26615\n",
      "   macro avg       0.83      0.84      0.84     26615\n",
      "weighted avg       0.96      0.96      0.96     26615\n",
      "\n"
     ]
    }
   ],
   "source": [
    "results2 = cross_val_predict(classifier2, X3, y, cv = 10)\n",
    "class_values = [0,1,2,3]\n",
    "print(classification_report(y, results2, class_values))"
   ]
  },
  {
   "cell_type": "markdown",
   "metadata": {},
   "source": [
    "#### Aplicando modelo de Naive Bayes"
   ]
  },
  {
   "cell_type": "code",
   "execution_count": 657,
   "metadata": {
    "scrolled": true
   },
   "outputs": [
    {
     "data": {
      "text/plain": [
       "GaussianNB(priors=None, var_smoothing=1e-09)"
      ]
     },
     "execution_count": 657,
     "metadata": {},
     "output_type": "execute_result"
    }
   ],
   "source": [
    "classifier3 = GaussianNB()\n",
    "classifier3.fit(X_train, y_train)"
   ]
  },
  {
   "cell_type": "code",
   "execution_count": 658,
   "metadata": {},
   "outputs": [],
   "source": [
    "y_pred3 = classifier3.predict(X_test)"
   ]
  },
  {
   "cell_type": "code",
   "execution_count": 659,
   "metadata": {},
   "outputs": [],
   "source": [
    "def Accuracy3(classifier3,X3, y):\n",
    "    results3 = cross_val_predict(classifier3, X3, y, cv = 10)\n",
    "    return accuracy_score(y, results3)"
   ]
  },
  {
   "cell_type": "code",
   "execution_count": 660,
   "metadata": {},
   "outputs": [
    {
     "data": {
      "text/plain": [
       "0.3632538042457261"
      ]
     },
     "execution_count": 660,
     "metadata": {},
     "output_type": "execute_result"
    }
   ],
   "source": [
    "Accuracy3(classifier3, X3, y)"
   ]
  },
  {
   "cell_type": "code",
   "execution_count": 661,
   "metadata": {},
   "outputs": [
    {
     "name": "stdout",
     "output_type": "stream",
     "text": [
      "              precision    recall  f1-score   support\n",
      "\n",
      "           0       0.93      0.45      0.61     19285\n",
      "           1       0.01      0.25      0.01        99\n",
      "           2       0.14      0.06      0.08      6619\n",
      "           3       0.06      0.97      0.11       612\n",
      "\n",
      "    accuracy                           0.36     26615\n",
      "   macro avg       0.28      0.43      0.20     26615\n",
      "weighted avg       0.71      0.36      0.46     26615\n",
      "\n"
     ]
    }
   ],
   "source": [
    "results3 = cross_val_predict(classifier3, X3, y, cv = 10)\n",
    "class_values = [0,1,2,3]\n",
    "print(classification_report(y, results3, class_values))"
   ]
  },
  {
   "cell_type": "markdown",
   "metadata": {},
   "source": [
    "#### Aplicando modelo de Random Forest"
   ]
  },
  {
   "cell_type": "code",
   "execution_count": 662,
   "metadata": {
    "scrolled": true
   },
   "outputs": [
    {
     "data": {
      "text/plain": [
       "RandomForestClassifier(bootstrap=True, ccp_alpha=0.0, class_weight=None,\n",
       "                       criterion='entropy', max_depth=None, max_features='auto',\n",
       "                       max_leaf_nodes=None, max_samples=None,\n",
       "                       min_impurity_decrease=0.0, min_impurity_split=None,\n",
       "                       min_samples_leaf=1, min_samples_split=2,\n",
       "                       min_weight_fraction_leaf=0.0, n_estimators=10,\n",
       "                       n_jobs=None, oob_score=False, random_state=0, verbose=0,\n",
       "                       warm_start=False)"
      ]
     },
     "execution_count": 662,
     "metadata": {},
     "output_type": "execute_result"
    }
   ],
   "source": [
    "classifier4 = RandomForestClassifier(n_estimators = 10, criterion = 'entropy', random_state = 0)\n",
    "classifier4.fit(X_train, y_train)"
   ]
  },
  {
   "cell_type": "code",
   "execution_count": 663,
   "metadata": {},
   "outputs": [],
   "source": [
    "y_pred4 = classifier4.predict(X_test)"
   ]
  },
  {
   "cell_type": "code",
   "execution_count": 664,
   "metadata": {},
   "outputs": [],
   "source": [
    "def Accuracy4(classifier4,X3, y):\n",
    "    results4 = cross_val_predict(classifier4, X3, y, cv = 10)\n",
    "    return accuracy_score(y, results4)"
   ]
  },
  {
   "cell_type": "code",
   "execution_count": 665,
   "metadata": {},
   "outputs": [
    {
     "data": {
      "text/plain": [
       "0.9676122487319181"
      ]
     },
     "execution_count": 665,
     "metadata": {},
     "output_type": "execute_result"
    }
   ],
   "source": [
    "Accuracy4(classifier4, X3, y)"
   ]
  },
  {
   "cell_type": "code",
   "execution_count": 666,
   "metadata": {
    "scrolled": true
   },
   "outputs": [
    {
     "name": "stdout",
     "output_type": "stream",
     "text": [
      "              precision    recall  f1-score   support\n",
      "\n",
      "           0       0.98      0.99      0.98     19285\n",
      "           1       0.76      0.52      0.61        99\n",
      "           2       0.94      0.93      0.94      6619\n",
      "           3       0.87      0.79      0.83       612\n",
      "\n",
      "    accuracy                           0.97     26615\n",
      "   macro avg       0.89      0.81      0.84     26615\n",
      "weighted avg       0.97      0.97      0.97     26615\n",
      "\n"
     ]
    }
   ],
   "source": [
    "results4 = cross_val_predict(classifier4, X3, y, cv = 10)\n",
    "class_values = [0,1,2,3]\n",
    "print(classification_report(y, results4, class_values))"
   ]
  },
  {
   "cell_type": "markdown",
   "metadata": {},
   "source": [
    "#### Aplicando modelo de XGBoost"
   ]
  },
  {
   "cell_type": "code",
   "execution_count": 93,
   "metadata": {
    "scrolled": true
   },
   "outputs": [
    {
     "name": "stdout",
     "output_type": "stream",
     "text": [
      "[23:24:09] WARNING: C:/Users/Administrator/workspace/xgboost-win64_release_1.3.0/src/learner.cc:1061: Starting in XGBoost 1.3.0, the default evaluation metric used with the objective 'multi:softprob' was changed from 'merror' to 'mlogloss'. Explicitly set eval_metric if you'd like to restore the old behavior.\n"
     ]
    },
    {
     "data": {
      "text/plain": [
       "XGBClassifier(base_score=0.5, booster='gbtree', colsample_bylevel=1,\n",
       "              colsample_bynode=1, colsample_bytree=1, gamma=0, gpu_id=-1,\n",
       "              importance_type='gain', interaction_constraints='',\n",
       "              learning_rate=0.300000012, max_delta_step=0, max_depth=6,\n",
       "              min_child_weight=1, missing=nan, monotone_constraints='()',\n",
       "              n_estimators=100, n_jobs=8, num_parallel_tree=1,\n",
       "              objective='multi:softprob', random_state=0, reg_alpha=0,\n",
       "              reg_lambda=1, scale_pos_weight=None, subsample=1,\n",
       "              tree_method='exact', use_label_encoder=True,\n",
       "              validate_parameters=1, verbosity=None)"
      ]
     },
     "execution_count": 93,
     "metadata": {},
     "output_type": "execute_result"
    }
   ],
   "source": [
    "classifier5 = XGBClassifier()\n",
    "classifier5.fit(X_train, y_train)"
   ]
  },
  {
   "cell_type": "code",
   "execution_count": 95,
   "metadata": {},
   "outputs": [],
   "source": [
    "y_pred5 = classifier5.predict(X_test)"
   ]
  },
  {
   "cell_type": "code",
   "execution_count": 154,
   "metadata": {},
   "outputs": [],
   "source": [
    "def Accuracy5(classifier5,X3, y):\n",
    "    results5 = cross_val_predict(classifier5, X3, y, cv = 10)\n",
    "    return accuracy_score(y, results5)"
   ]
  },
  {
   "cell_type": "code",
   "execution_count": 155,
   "metadata": {
    "scrolled": true
   },
   "outputs": [
    {
     "name": "stdout",
     "output_type": "stream",
     "text": [
      "[22:18:00] WARNING: C:/Users/Administrator/workspace/xgboost-win64_release_1.3.0/src/learner.cc:1061: Starting in XGBoost 1.3.0, the default evaluation metric used with the objective 'multi:softprob' was changed from 'merror' to 'mlogloss'. Explicitly set eval_metric if you'd like to restore the old behavior.\n",
      "[22:18:04] WARNING: C:/Users/Administrator/workspace/xgboost-win64_release_1.3.0/src/learner.cc:1061: Starting in XGBoost 1.3.0, the default evaluation metric used with the objective 'multi:softprob' was changed from 'merror' to 'mlogloss'. Explicitly set eval_metric if you'd like to restore the old behavior.\n",
      "[22:18:07] WARNING: C:/Users/Administrator/workspace/xgboost-win64_release_1.3.0/src/learner.cc:1061: Starting in XGBoost 1.3.0, the default evaluation metric used with the objective 'multi:softprob' was changed from 'merror' to 'mlogloss'. Explicitly set eval_metric if you'd like to restore the old behavior.\n",
      "[22:18:09] WARNING: C:/Users/Administrator/workspace/xgboost-win64_release_1.3.0/src/learner.cc:1061: Starting in XGBoost 1.3.0, the default evaluation metric used with the objective 'multi:softprob' was changed from 'merror' to 'mlogloss'. Explicitly set eval_metric if you'd like to restore the old behavior.\n",
      "[22:18:13] WARNING: C:/Users/Administrator/workspace/xgboost-win64_release_1.3.0/src/learner.cc:1061: Starting in XGBoost 1.3.0, the default evaluation metric used with the objective 'multi:softprob' was changed from 'merror' to 'mlogloss'. Explicitly set eval_metric if you'd like to restore the old behavior.\n",
      "[22:18:16] WARNING: C:/Users/Administrator/workspace/xgboost-win64_release_1.3.0/src/learner.cc:1061: Starting in XGBoost 1.3.0, the default evaluation metric used with the objective 'multi:softprob' was changed from 'merror' to 'mlogloss'. Explicitly set eval_metric if you'd like to restore the old behavior.\n",
      "[22:18:19] WARNING: C:/Users/Administrator/workspace/xgboost-win64_release_1.3.0/src/learner.cc:1061: Starting in XGBoost 1.3.0, the default evaluation metric used with the objective 'multi:softprob' was changed from 'merror' to 'mlogloss'. Explicitly set eval_metric if you'd like to restore the old behavior.\n",
      "[22:18:23] WARNING: C:/Users/Administrator/workspace/xgboost-win64_release_1.3.0/src/learner.cc:1061: Starting in XGBoost 1.3.0, the default evaluation metric used with the objective 'multi:softprob' was changed from 'merror' to 'mlogloss'. Explicitly set eval_metric if you'd like to restore the old behavior.\n",
      "[22:18:26] WARNING: C:/Users/Administrator/workspace/xgboost-win64_release_1.3.0/src/learner.cc:1061: Starting in XGBoost 1.3.0, the default evaluation metric used with the objective 'multi:softprob' was changed from 'merror' to 'mlogloss'. Explicitly set eval_metric if you'd like to restore the old behavior.\n",
      "[22:18:30] WARNING: C:/Users/Administrator/workspace/xgboost-win64_release_1.3.0/src/learner.cc:1061: Starting in XGBoost 1.3.0, the default evaluation metric used with the objective 'multi:softprob' was changed from 'merror' to 'mlogloss'. Explicitly set eval_metric if you'd like to restore the old behavior.\n"
     ]
    },
    {
     "data": {
      "text/plain": [
       "0.9701671989479617"
      ]
     },
     "execution_count": 155,
     "metadata": {},
     "output_type": "execute_result"
    }
   ],
   "source": [
    "Accuracy5(classifier5, X3, y)"
   ]
  },
  {
   "cell_type": "code",
   "execution_count": 99,
   "metadata": {
    "scrolled": true
   },
   "outputs": [
    {
     "name": "stdout",
     "output_type": "stream",
     "text": [
      "[23:31:49] WARNING: C:/Users/Administrator/workspace/xgboost-win64_release_1.3.0/src/learner.cc:1061: Starting in XGBoost 1.3.0, the default evaluation metric used with the objective 'multi:softprob' was changed from 'merror' to 'mlogloss'. Explicitly set eval_metric if you'd like to restore the old behavior.\n",
      "[23:31:52] WARNING: C:/Users/Administrator/workspace/xgboost-win64_release_1.3.0/src/learner.cc:1061: Starting in XGBoost 1.3.0, the default evaluation metric used with the objective 'multi:softprob' was changed from 'merror' to 'mlogloss'. Explicitly set eval_metric if you'd like to restore the old behavior.\n",
      "[23:31:55] WARNING: C:/Users/Administrator/workspace/xgboost-win64_release_1.3.0/src/learner.cc:1061: Starting in XGBoost 1.3.0, the default evaluation metric used with the objective 'multi:softprob' was changed from 'merror' to 'mlogloss'. Explicitly set eval_metric if you'd like to restore the old behavior.\n",
      "[23:31:58] WARNING: C:/Users/Administrator/workspace/xgboost-win64_release_1.3.0/src/learner.cc:1061: Starting in XGBoost 1.3.0, the default evaluation metric used with the objective 'multi:softprob' was changed from 'merror' to 'mlogloss'. Explicitly set eval_metric if you'd like to restore the old behavior.\n",
      "[23:32:01] WARNING: C:/Users/Administrator/workspace/xgboost-win64_release_1.3.0/src/learner.cc:1061: Starting in XGBoost 1.3.0, the default evaluation metric used with the objective 'multi:softprob' was changed from 'merror' to 'mlogloss'. Explicitly set eval_metric if you'd like to restore the old behavior.\n",
      "[23:32:04] WARNING: C:/Users/Administrator/workspace/xgboost-win64_release_1.3.0/src/learner.cc:1061: Starting in XGBoost 1.3.0, the default evaluation metric used with the objective 'multi:softprob' was changed from 'merror' to 'mlogloss'. Explicitly set eval_metric if you'd like to restore the old behavior.\n",
      "[23:32:07] WARNING: C:/Users/Administrator/workspace/xgboost-win64_release_1.3.0/src/learner.cc:1061: Starting in XGBoost 1.3.0, the default evaluation metric used with the objective 'multi:softprob' was changed from 'merror' to 'mlogloss'. Explicitly set eval_metric if you'd like to restore the old behavior.\n",
      "[23:32:10] WARNING: C:/Users/Administrator/workspace/xgboost-win64_release_1.3.0/src/learner.cc:1061: Starting in XGBoost 1.3.0, the default evaluation metric used with the objective 'multi:softprob' was changed from 'merror' to 'mlogloss'. Explicitly set eval_metric if you'd like to restore the old behavior.\n",
      "[23:32:14] WARNING: C:/Users/Administrator/workspace/xgboost-win64_release_1.3.0/src/learner.cc:1061: Starting in XGBoost 1.3.0, the default evaluation metric used with the objective 'multi:softprob' was changed from 'merror' to 'mlogloss'. Explicitly set eval_metric if you'd like to restore the old behavior.\n",
      "[23:32:17] WARNING: C:/Users/Administrator/workspace/xgboost-win64_release_1.3.0/src/learner.cc:1061: Starting in XGBoost 1.3.0, the default evaluation metric used with the objective 'multi:softprob' was changed from 'merror' to 'mlogloss'. Explicitly set eval_metric if you'd like to restore the old behavior.\n",
      "              precision    recall  f1-score   support\n",
      "\n",
      "           0       0.98      0.99      0.98     19285\n",
      "           1       0.75      0.59      0.66        99\n",
      "           2       0.95      0.94      0.94      6619\n",
      "           3       0.85      0.86      0.85       612\n",
      "\n",
      "    accuracy                           0.97     26615\n",
      "   macro avg       0.88      0.84      0.86     26615\n",
      "weighted avg       0.97      0.97      0.97     26615\n",
      "\n"
     ]
    }
   ],
   "source": [
    "results5 = cross_val_predict(classifier5, X3, y, cv = 10)\n",
    "class_values = [0,1,2,3]\n",
    "print(classification_report(y, results5, class_values))"
   ]
  },
  {
   "cell_type": "code",
   "execution_count": 96,
   "metadata": {},
   "outputs": [
    {
     "name": "stdout",
     "output_type": "stream",
     "text": [
      "Predito     0   1     2    3   All\n",
      "Real                              \n",
      "0        5654   2    69    5  5730\n",
      "1           2  17     5    1    25\n",
      "2         101   1  1929   22  2053\n",
      "3           1   0     8  168   177\n",
      "All      5758  20  2011  196  7985\n"
     ]
    }
   ],
   "source": [
    "print(pd.crosstab(y_test, y_pred5,\n",
    "                 rownames=['Real'], colnames=['Predito'],\n",
    "                 margins=True))"
   ]
  }
 ],
 "metadata": {
  "kernelspec": {
   "display_name": "Python 3",
   "language": "python",
   "name": "python3"
  },
  "language_info": {
   "codemirror_mode": {
    "name": "ipython",
    "version": 3
   },
   "file_extension": ".py",
   "mimetype": "text/x-python",
   "name": "python",
   "nbconvert_exporter": "python",
   "pygments_lexer": "ipython3",
   "version": "3.7.6"
  }
 },
 "nbformat": 4,
 "nbformat_minor": 4
}
